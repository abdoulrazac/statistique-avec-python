{
 "cells": [
  {
   "cell_type": "markdown",
   "id": "9f122f4c",
   "metadata": {},
   "source": [
    "# Analyse Factorielle des correspondances"
   ]
  },
  {
   "cell_type": "code",
   "execution_count": 1,
   "id": "c42300f9",
   "metadata": {},
   "outputs": [
    {
     "data": {
      "text/html": [
       "<div>\n",
       "<style scoped>\n",
       "    .dataframe tbody tr th:only-of-type {\n",
       "        vertical-align: middle;\n",
       "    }\n",
       "\n",
       "    .dataframe tbody tr th {\n",
       "        vertical-align: top;\n",
       "    }\n",
       "\n",
       "    .dataframe thead th {\n",
       "        text-align: right;\n",
       "    }\n",
       "</style>\n",
       "<table border=\"1\" class=\"dataframe\">\n",
       "  <thead>\n",
       "    <tr style=\"text-align: right;\">\n",
       "      <th></th>\n",
       "      <th>rester au foyer</th>\n",
       "      <th>trav. à mi-temps</th>\n",
       "      <th>trav. plein temps</th>\n",
       "    </tr>\n",
       "  </thead>\n",
       "  <tbody>\n",
       "    <tr>\n",
       "      <th>2 conj. tr. également</th>\n",
       "      <td>13</td>\n",
       "      <td>142</td>\n",
       "      <td>106</td>\n",
       "    </tr>\n",
       "    <tr>\n",
       "      <th>trav. mari + absorbant</th>\n",
       "      <td>30</td>\n",
       "      <td>408</td>\n",
       "      <td>117</td>\n",
       "    </tr>\n",
       "    <tr>\n",
       "      <th>seul le mari trav.</th>\n",
       "      <td>241</td>\n",
       "      <td>573</td>\n",
       "      <td>94</td>\n",
       "    </tr>\n",
       "  </tbody>\n",
       "</table>\n",
       "</div>"
      ],
      "text/plain": [
       "                        rester au foyer  trav. à mi-temps  trav. plein temps\n",
       "2 conj. tr. également                13               142                106\n",
       "trav. mari + absorbant               30               408                117\n",
       "seul le mari trav.                  241               573                 94"
      ]
     },
     "metadata": {},
     "output_type": "display_data"
    }
   ],
   "source": [
    "# Chargement des données\n",
    "import pandas as pd\n",
    "\n",
    "donnee = pd.read_csv('femme_travail.csv',delimiter=\";\",encoding =  \"cp1252\",\n",
    "                     index_col = 0,usecols=[0,1,2,3])\n",
    "display(donnee)"
   ]
  },
  {
   "cell_type": "code",
   "execution_count": 2,
   "id": "c4c0b562",
   "metadata": {},
   "outputs": [
    {
     "name": "stdout",
     "output_type": "stream",
     "text": [
      "n = 3 et p = 3.\n"
     ]
    }
   ],
   "source": [
    "# Dimensions du tableau\n",
    "n = donnee.shape[0]   # Nombre de lignes\n",
    "p = donnee.shape[1]   # Nombre de colonnes\n",
    "print(f'n = {n} et p = {p}.')"
   ]
  },
  {
   "cell_type": "code",
   "execution_count": 3,
   "id": "9c3a9502",
   "metadata": {},
   "outputs": [
    {
     "data": {
      "text/html": [
       "<div>\n",
       "<style scoped>\n",
       "    .dataframe tbody tr th:only-of-type {\n",
       "        vertical-align: middle;\n",
       "    }\n",
       "\n",
       "    .dataframe tbody tr th {\n",
       "        vertical-align: top;\n",
       "    }\n",
       "\n",
       "    .dataframe thead th {\n",
       "        text-align: right;\n",
       "    }\n",
       "</style>\n",
       "<table border=\"1\" class=\"dataframe\">\n",
       "  <thead>\n",
       "    <tr style=\"text-align: right;\">\n",
       "      <th></th>\n",
       "      <th>rester au foyer</th>\n",
       "      <th>trav. à mi-temps</th>\n",
       "      <th>trav. plein temps</th>\n",
       "      <th>Somme</th>\n",
       "    </tr>\n",
       "  </thead>\n",
       "  <tbody>\n",
       "    <tr>\n",
       "      <th>2 conj. tr. également</th>\n",
       "      <td>13</td>\n",
       "      <td>142</td>\n",
       "      <td>106</td>\n",
       "      <td>261</td>\n",
       "    </tr>\n",
       "    <tr>\n",
       "      <th>trav. mari + absorbant</th>\n",
       "      <td>30</td>\n",
       "      <td>408</td>\n",
       "      <td>117</td>\n",
       "      <td>555</td>\n",
       "    </tr>\n",
       "    <tr>\n",
       "      <th>seul le mari trav.</th>\n",
       "      <td>241</td>\n",
       "      <td>573</td>\n",
       "      <td>94</td>\n",
       "      <td>908</td>\n",
       "    </tr>\n",
       "    <tr>\n",
       "      <th>Somme</th>\n",
       "      <td>284</td>\n",
       "      <td>1123</td>\n",
       "      <td>317</td>\n",
       "      <td>1724</td>\n",
       "    </tr>\n",
       "  </tbody>\n",
       "</table>\n",
       "</div>"
      ],
      "text/plain": [
       "                        rester au foyer  trav. à mi-temps  trav. plein temps  \\\n",
       "2 conj. tr. également                13               142                106   \n",
       "trav. mari + absorbant               30               408                117   \n",
       "seul le mari trav.                  241               573                 94   \n",
       "Somme                               284              1123                317   \n",
       "\n",
       "                        Somme  \n",
       "2 conj. tr. également     261  \n",
       "trav. mari + absorbant    555  \n",
       "seul le mari trav.        908  \n",
       "Somme                    1724  "
      ]
     },
     "metadata": {},
     "output_type": "display_data"
    }
   ],
   "source": [
    "# copie des données\n",
    "df = donnee.copy()\n",
    "df.loc['Somme'] = df.sum(axis=0)\n",
    "df.loc[:,'Somme'] = df.sum(axis=1)\n",
    "# Affichage\n",
    "display(df)"
   ]
  },
  {
   "cell_type": "code",
   "execution_count": 4,
   "id": "9de3687c",
   "metadata": {},
   "outputs": [],
   "source": [
    "# Calcul des totaux en ligne\n",
    "rowsum = donnee.sum(axis =1)\n",
    "# Calcul des totaux en colonne\n",
    "colsum = donnee.sum(axis = 0)"
   ]
  },
  {
   "cell_type": "code",
   "execution_count": 5,
   "id": "2b09fd6a",
   "metadata": {},
   "outputs": [
    {
     "data": {
      "text/html": [
       "<div>\n",
       "<style scoped>\n",
       "    .dataframe tbody tr th:only-of-type {\n",
       "        vertical-align: middle;\n",
       "    }\n",
       "\n",
       "    .dataframe tbody tr th {\n",
       "        vertical-align: top;\n",
       "    }\n",
       "\n",
       "    .dataframe thead th {\n",
       "        text-align: right;\n",
       "    }\n",
       "</style>\n",
       "<table border=\"1\" class=\"dataframe\">\n",
       "  <thead>\n",
       "    <tr style=\"text-align: right;\">\n",
       "      <th></th>\n",
       "      <th>rester au foyer</th>\n",
       "      <th>trav. à mi-temps</th>\n",
       "      <th>trav. plein temps</th>\n",
       "    </tr>\n",
       "  </thead>\n",
       "  <tbody>\n",
       "    <tr>\n",
       "      <th>2 conj. tr. également</th>\n",
       "      <td>0.007541</td>\n",
       "      <td>0.082367</td>\n",
       "      <td>0.061485</td>\n",
       "    </tr>\n",
       "    <tr>\n",
       "      <th>trav. mari + absorbant</th>\n",
       "      <td>0.017401</td>\n",
       "      <td>0.236659</td>\n",
       "      <td>0.067865</td>\n",
       "    </tr>\n",
       "    <tr>\n",
       "      <th>seul le mari trav.</th>\n",
       "      <td>0.139791</td>\n",
       "      <td>0.332367</td>\n",
       "      <td>0.054524</td>\n",
       "    </tr>\n",
       "  </tbody>\n",
       "</table>\n",
       "</div>"
      ],
      "text/plain": [
       "                        rester au foyer  trav. à mi-temps  trav. plein temps\n",
       "2 conj. tr. également          0.007541          0.082367           0.061485\n",
       "trav. mari + absorbant         0.017401          0.236659           0.067865\n",
       "seul le mari trav.             0.139791          0.332367           0.054524"
      ]
     },
     "metadata": {},
     "output_type": "display_data"
    }
   ],
   "source": [
    "# Probabilité conjointe\n",
    "probconj=donnee.apply(lambda x : x/donnee.sum().sum())\n",
    "display(probconj)"
   ]
  },
  {
   "cell_type": "code",
   "execution_count": 6,
   "id": "d7c04bdf",
   "metadata": {},
   "outputs": [
    {
     "name": "stdout",
     "output_type": "stream",
     "text": [
      "Somme des probabilités : 1.0\n"
     ]
    }
   ],
   "source": [
    "# Somme\n",
    "print(f'Somme des probabilités : {probconj.sum().sum()}')"
   ]
  },
  {
   "cell_type": "code",
   "execution_count": 7,
   "id": "3027cb93",
   "metadata": {},
   "outputs": [
    {
     "data": {
      "text/html": [
       "<div>\n",
       "<style scoped>\n",
       "    .dataframe tbody tr th:only-of-type {\n",
       "        vertical-align: middle;\n",
       "    }\n",
       "\n",
       "    .dataframe tbody tr th {\n",
       "        vertical-align: top;\n",
       "    }\n",
       "\n",
       "    .dataframe thead th {\n",
       "        text-align: right;\n",
       "    }\n",
       "</style>\n",
       "<table border=\"1\" class=\"dataframe\">\n",
       "  <thead>\n",
       "    <tr style=\"text-align: right;\">\n",
       "      <th></th>\n",
       "      <th>rester au foyer</th>\n",
       "      <th>trav. à mi-temps</th>\n",
       "      <th>trav. plein temps</th>\n",
       "      <th>Somme</th>\n",
       "    </tr>\n",
       "  </thead>\n",
       "  <tbody>\n",
       "    <tr>\n",
       "      <th>2 conj. tr. également</th>\n",
       "      <td>0.007541</td>\n",
       "      <td>0.082367</td>\n",
       "      <td>0.061485</td>\n",
       "      <td>0.151392</td>\n",
       "    </tr>\n",
       "    <tr>\n",
       "      <th>trav. mari + absorbant</th>\n",
       "      <td>0.017401</td>\n",
       "      <td>0.236659</td>\n",
       "      <td>0.067865</td>\n",
       "      <td>0.321926</td>\n",
       "    </tr>\n",
       "    <tr>\n",
       "      <th>seul le mari trav.</th>\n",
       "      <td>0.139791</td>\n",
       "      <td>0.332367</td>\n",
       "      <td>0.054524</td>\n",
       "      <td>0.526682</td>\n",
       "    </tr>\n",
       "    <tr>\n",
       "      <th>Somme</th>\n",
       "      <td>0.164733</td>\n",
       "      <td>0.651392</td>\n",
       "      <td>0.183875</td>\n",
       "      <td>1.000000</td>\n",
       "    </tr>\n",
       "  </tbody>\n",
       "</table>\n",
       "</div>"
      ],
      "text/plain": [
       "                        rester au foyer  trav. à mi-temps  trav. plein temps  \\\n",
       "2 conj. tr. également          0.007541          0.082367           0.061485   \n",
       "trav. mari + absorbant         0.017401          0.236659           0.067865   \n",
       "seul le mari trav.             0.139791          0.332367           0.054524   \n",
       "Somme                          0.164733          0.651392           0.183875   \n",
       "\n",
       "                           Somme  \n",
       "2 conj. tr. également   0.151392  \n",
       "trav. mari + absorbant  0.321926  \n",
       "seul le mari trav.      0.526682  \n",
       "Somme                   1.000000  "
      ]
     },
     "metadata": {},
     "output_type": "display_data"
    }
   ],
   "source": [
    "# copie des données\n",
    "df2 = probconj.copy()\n",
    "df2.loc['Somme'] = df2.sum(axis=0)\n",
    "df2.loc[:,'Somme'] = df2.sum(axis=1)\n",
    "# Affichage\n",
    "display(df2)"
   ]
  },
  {
   "cell_type": "code",
   "execution_count": 8,
   "id": "8ac1fe2c",
   "metadata": {},
   "outputs": [
    {
     "data": {
      "text/plain": [
       "2 conj. tr. également     0.151392\n",
       "trav. mari + absorbant    0.321926\n",
       "seul le mari trav.        0.526682\n",
       "dtype: float64"
      ]
     },
     "metadata": {},
     "output_type": "display_data"
    }
   ],
   "source": [
    "# Marge colonne (probabilité marginale)\n",
    "rowprob = probconj.sum(axis = 1)\n",
    "display(rowprob)"
   ]
  },
  {
   "cell_type": "code",
   "execution_count": 9,
   "id": "9ba014f4",
   "metadata": {},
   "outputs": [
    {
     "data": {
      "text/plain": [
       "rester au foyer      0.164733\n",
       "trav. à mi-temps     0.651392\n",
       "trav. plein temps    0.183875\n",
       "dtype: float64"
      ]
     },
     "metadata": {},
     "output_type": "display_data"
    }
   ],
   "source": [
    "# Marge ligne (probabilité marginale)\n",
    "colprob = probconj.sum(axis = 0)\n",
    "display(colprob)"
   ]
  },
  {
   "cell_type": "code",
   "execution_count": 10,
   "id": "91228780",
   "metadata": {},
   "outputs": [
    {
     "data": {
      "text/html": [
       "<div>\n",
       "<style scoped>\n",
       "    .dataframe tbody tr th:only-of-type {\n",
       "        vertical-align: middle;\n",
       "    }\n",
       "\n",
       "    .dataframe tbody tr th {\n",
       "        vertical-align: top;\n",
       "    }\n",
       "\n",
       "    .dataframe thead th {\n",
       "        text-align: right;\n",
       "    }\n",
       "</style>\n",
       "<table border=\"1\" class=\"dataframe\">\n",
       "  <thead>\n",
       "    <tr style=\"text-align: right;\">\n",
       "      <th></th>\n",
       "      <th>rester au foyer</th>\n",
       "      <th>trav. à mi-temps</th>\n",
       "      <th>trav. plein temps</th>\n",
       "      <th>Somme</th>\n",
       "    </tr>\n",
       "  </thead>\n",
       "  <tbody>\n",
       "    <tr>\n",
       "      <th>2 conj. tr. également</th>\n",
       "      <td>43.00</td>\n",
       "      <td>170.01</td>\n",
       "      <td>47.99</td>\n",
       "      <td>261.0</td>\n",
       "    </tr>\n",
       "    <tr>\n",
       "      <th>trav. mari + absorbant</th>\n",
       "      <td>91.43</td>\n",
       "      <td>361.52</td>\n",
       "      <td>102.05</td>\n",
       "      <td>555.0</td>\n",
       "    </tr>\n",
       "    <tr>\n",
       "      <th>seul le mari trav.</th>\n",
       "      <td>149.58</td>\n",
       "      <td>591.46</td>\n",
       "      <td>166.96</td>\n",
       "      <td>908.0</td>\n",
       "    </tr>\n",
       "    <tr>\n",
       "      <th>Somme</th>\n",
       "      <td>284.00</td>\n",
       "      <td>1123.00</td>\n",
       "      <td>317.00</td>\n",
       "      <td>1724.0</td>\n",
       "    </tr>\n",
       "  </tbody>\n",
       "</table>\n",
       "</div>"
      ],
      "text/plain": [
       "                        rester au foyer  trav. à mi-temps  trav. plein temps  \\\n",
       "2 conj. tr. également             43.00            170.01              47.99   \n",
       "trav. mari + absorbant            91.43            361.52             102.05   \n",
       "seul le mari trav.               149.58            591.46             166.96   \n",
       "Somme                            284.00           1123.00             317.00   \n",
       "\n",
       "                         Somme  \n",
       "2 conj. tr. également    261.0  \n",
       "trav. mari + absorbant   555.0  \n",
       "seul le mari trav.       908.0  \n",
       "Somme                   1724.0  "
      ]
     },
     "metadata": {},
     "output_type": "display_data"
    }
   ],
   "source": [
    "# Effectif total\n",
    "neff = donnee.values.sum()\n",
    "# Effectif théorique\n",
    "import numpy as np\n",
    "efftheorik = pd.DataFrame(np.zeros((n,p),dtype=float),index = donnee.index,\n",
    "                           columns = donnee.columns)\n",
    "for i in range(n):\n",
    "    for j in range(p):\n",
    "        efftheorik.values[i,j] = (rowsum[i]*colsum[j])/neff\n",
    "# copie des données\n",
    "df3 = efftheorik.copy()\n",
    "df3.loc['Somme'] = df3.sum(axis=0)\n",
    "df3.loc[:,'Somme'] = df3.sum(axis=1)\n",
    "# Affichage\n",
    "display(df3.round(2))"
   ]
  },
  {
   "cell_type": "code",
   "execution_count": 11,
   "id": "b66eb8ea",
   "metadata": {},
   "outputs": [
    {
     "name": "stdout",
     "output_type": "stream",
     "text": [
      "Khi2 vaut 233.43.\n"
     ]
    }
   ],
   "source": [
    "# Statistique du Khi-deux\n",
    "khi2 = np.sum(((donnee.values - efftheorik.values)**2)/efftheorik.values)\n",
    "print(\"Khi2 vaut %.2f.\" %(khi2))"
   ]
  },
  {
   "cell_type": "code",
   "execution_count": 12,
   "id": "2efc1225",
   "metadata": {},
   "outputs": [
    {
     "name": "stdout",
     "output_type": "stream",
     "text": [
      "degré de liberté : 4\n",
      "pvalue : 0.0000\n"
     ]
    }
   ],
   "source": [
    "# Degré de liberté\n",
    "ddl = (n - 1)*(p - 1)\n",
    "print(\"degré de liberté : %.i\" %(ddl))\n",
    "# P-value du test\n",
    "from scipy import stats as stat\n",
    "pvalue = 1 - stat.chi2.cdf(khi2,df=ddl)\n",
    "print('pvalue : %.4f'%(pvalue))"
   ]
  },
  {
   "cell_type": "code",
   "execution_count": 13,
   "id": "cae8ffcb",
   "metadata": {},
   "outputs": [
    {
     "data": {
      "text/html": [
       "<div>\n",
       "<style scoped>\n",
       "    .dataframe tbody tr th:only-of-type {\n",
       "        vertical-align: middle;\n",
       "    }\n",
       "\n",
       "    .dataframe tbody tr th {\n",
       "        vertical-align: top;\n",
       "    }\n",
       "\n",
       "    .dataframe thead th {\n",
       "        text-align: right;\n",
       "    }\n",
       "</style>\n",
       "<table border=\"1\" class=\"dataframe\">\n",
       "  <thead>\n",
       "    <tr style=\"text-align: right;\">\n",
       "      <th></th>\n",
       "      <th>valeur</th>\n",
       "    </tr>\n",
       "  </thead>\n",
       "  <tbody>\n",
       "    <tr>\n",
       "      <th>chisq</th>\n",
       "      <td>233.43</td>\n",
       "    </tr>\n",
       "    <tr>\n",
       "      <th>p.value</th>\n",
       "      <td>0.00</td>\n",
       "    </tr>\n",
       "    <tr>\n",
       "      <th>ddl</th>\n",
       "      <td>4.00</td>\n",
       "    </tr>\n",
       "  </tbody>\n",
       "</table>\n",
       "</div>"
      ],
      "text/plain": [
       "         valeur\n",
       "chisq    233.43\n",
       "p.value    0.00\n",
       "ddl        4.00"
      ]
     },
     "metadata": {},
     "output_type": "display_data"
    }
   ],
   "source": [
    "# Autre façon\n",
    "from scipy import stats\n",
    "\n",
    "scipy_stats = stats.chi2_contingency(donnee)\n",
    "khistats = pd.DataFrame(scipy_stats[:3],columns=['valeur'],\n",
    "                       index = ['chisq','p.value','ddl'])\n",
    "display(khistats.round(2))"
   ]
  },
  {
   "cell_type": "markdown",
   "id": "0e02d835",
   "metadata": {},
   "source": [
    "### Comment l'AFC appréhende l'écart à l'indépendance?\n",
    "\n",
    "#### Profils lignes"
   ]
  },
  {
   "cell_type": "code",
   "execution_count": 14,
   "id": "ffac807b",
   "metadata": {},
   "outputs": [
    {
     "data": {
      "text/html": [
       "<div>\n",
       "<style scoped>\n",
       "    .dataframe tbody tr th:only-of-type {\n",
       "        vertical-align: middle;\n",
       "    }\n",
       "\n",
       "    .dataframe tbody tr th {\n",
       "        vertical-align: top;\n",
       "    }\n",
       "\n",
       "    .dataframe thead th {\n",
       "        text-align: right;\n",
       "    }\n",
       "</style>\n",
       "<table border=\"1\" class=\"dataframe\">\n",
       "  <thead>\n",
       "    <tr style=\"text-align: right;\">\n",
       "      <th></th>\n",
       "      <th>rester au foyer</th>\n",
       "      <th>trav. à mi-temps</th>\n",
       "      <th>trav. plein temps</th>\n",
       "      <th>Profil moyen</th>\n",
       "    </tr>\n",
       "  </thead>\n",
       "  <tbody>\n",
       "    <tr>\n",
       "      <th>2 conj. tr. également</th>\n",
       "      <td>0.050</td>\n",
       "      <td>0.544</td>\n",
       "      <td>0.406</td>\n",
       "      <td>1.0</td>\n",
       "    </tr>\n",
       "    <tr>\n",
       "      <th>trav. mari + absorbant</th>\n",
       "      <td>0.054</td>\n",
       "      <td>0.735</td>\n",
       "      <td>0.211</td>\n",
       "      <td>1.0</td>\n",
       "    </tr>\n",
       "    <tr>\n",
       "      <th>seul le mari trav.</th>\n",
       "      <td>0.265</td>\n",
       "      <td>0.631</td>\n",
       "      <td>0.104</td>\n",
       "      <td>1.0</td>\n",
       "    </tr>\n",
       "  </tbody>\n",
       "</table>\n",
       "</div>"
      ],
      "text/plain": [
       "                        rester au foyer  trav. à mi-temps  trav. plein temps  \\\n",
       "2 conj. tr. également             0.050             0.544              0.406   \n",
       "trav. mari + absorbant            0.054             0.735              0.211   \n",
       "seul le mari trav.                0.265             0.631              0.104   \n",
       "\n",
       "                        Profil moyen  \n",
       "2 conj. tr. également            1.0  \n",
       "trav. mari + absorbant           1.0  \n",
       "seul le mari trav.               1.0  "
      ]
     },
     "metadata": {},
     "output_type": "display_data"
    }
   ],
   "source": [
    "# Profils lignes\n",
    "import numpy as np\n",
    "rowprof = donnee.apply(lambda x:x/np.sum(x), axis=1)\n",
    "# Copie des données\n",
    "df4 = rowprof.copy()\n",
    "df4['Profil moyen'] = df4.sum(axis=1)\n",
    "display(df4.round(3))"
   ]
  },
  {
   "cell_type": "code",
   "execution_count": 15,
   "id": "1c05d307",
   "metadata": {},
   "outputs": [
    {
     "data": {
      "image/png": "[encoded data removed]",
      "text/plain": [
       "<Figure size 1152x576 with 1 Axes>"
      ]
     },
     "metadata": {
      "needs_background": "light"
     },
     "output_type": "display_data"
    }
   ],
   "source": [
    "# Graphique\n",
    "from matplotlib import pyplot as plt\n",
    "rowprof.plot.barh(stacked=True, figsize=(16,8))\n",
    "plt.ylabel('Modalités V1')\n",
    "plt.xlabel('Distribution contionnelle')\n",
    "plt.title('Profils lignes')\n",
    "plt.show()"
   ]
  },
  {
   "cell_type": "code",
   "execution_count": 16,
   "id": "a37802de",
   "metadata": {},
   "outputs": [
    {
     "data": {
      "text/html": [
       "<div>\n",
       "<style scoped>\n",
       "    .dataframe tbody tr th:only-of-type {\n",
       "        vertical-align: middle;\n",
       "    }\n",
       "\n",
       "    .dataframe tbody tr th {\n",
       "        vertical-align: top;\n",
       "    }\n",
       "\n",
       "    .dataframe thead th {\n",
       "        text-align: right;\n",
       "    }\n",
       "</style>\n",
       "<table border=\"1\" class=\"dataframe\">\n",
       "  <thead>\n",
       "    <tr style=\"text-align: right;\">\n",
       "      <th></th>\n",
       "      <th>rester au foyer</th>\n",
       "      <th>trav. à mi-temps</th>\n",
       "      <th>trav. plein temps</th>\n",
       "      <th>Somme</th>\n",
       "    </tr>\n",
       "  </thead>\n",
       "  <tbody>\n",
       "    <tr>\n",
       "      <th>2 conj. tr. également</th>\n",
       "      <td>0.050</td>\n",
       "      <td>0.544</td>\n",
       "      <td>0.406</td>\n",
       "      <td>1.0</td>\n",
       "    </tr>\n",
       "    <tr>\n",
       "      <th>trav. mari + absorbant</th>\n",
       "      <td>0.054</td>\n",
       "      <td>0.735</td>\n",
       "      <td>0.211</td>\n",
       "      <td>1.0</td>\n",
       "    </tr>\n",
       "    <tr>\n",
       "      <th>seul le mari trav.</th>\n",
       "      <td>0.265</td>\n",
       "      <td>0.631</td>\n",
       "      <td>0.104</td>\n",
       "      <td>1.0</td>\n",
       "    </tr>\n",
       "    <tr>\n",
       "      <th>Profil moyen</th>\n",
       "      <td>0.165</td>\n",
       "      <td>0.651</td>\n",
       "      <td>0.184</td>\n",
       "      <td>1.0</td>\n",
       "    </tr>\n",
       "  </tbody>\n",
       "</table>\n",
       "</div>"
      ],
      "text/plain": [
       "                        rester au foyer  trav. à mi-temps  trav. plein temps  \\\n",
       "2 conj. tr. également             0.050             0.544              0.406   \n",
       "trav. mari + absorbant            0.054             0.735              0.211   \n",
       "seul le mari trav.                0.265             0.631              0.104   \n",
       "Profil moyen                      0.165             0.651              0.184   \n",
       "\n",
       "                        Somme  \n",
       "2 conj. tr. également     1.0  \n",
       "trav. mari + absorbant    1.0  \n",
       "seul le mari trav.        1.0  \n",
       "Profil moyen              1.0  "
      ]
     },
     "metadata": {},
     "output_type": "display_data"
    }
   ],
   "source": [
    "# Profil ligne moyen\n",
    "rowmean = colsum/colsum.sum()\n",
    "# Copie des données\n",
    "df5 = rowprof.copy()\n",
    "df5.loc['Profil moyen',:] = rowmean\n",
    "df5.loc[:,'Somme'] = df5.sum(axis=1)\n",
    "display(df5.round(3))"
   ]
  },
  {
   "cell_type": "code",
   "execution_count": 17,
   "id": "9d864551",
   "metadata": {},
   "outputs": [
    {
     "data": {
      "image/png": "[encoded data removed]",
      "text/plain": [
       "<Figure size 1152x576 with 1 Axes>"
      ]
     },
     "metadata": {
      "needs_background": "light"
     },
     "output_type": "display_data"
    }
   ],
   "source": [
    "# Graphique\n",
    "from matplotlib import pyplot as plt\n",
    "df5.iloc[:,[0,1,2]].plot.barh(stacked=True, figsize=(16,8))\n",
    "plt.ylabel('Modalités V1')\n",
    "plt.xlabel('Distribution contionnelle')\n",
    "plt.title('Profils lignes')\n",
    "plt.show()"
   ]
  },
  {
   "cell_type": "markdown",
   "id": "c769a17f",
   "metadata": {},
   "source": [
    "#### Analyse par colonnes"
   ]
  },
  {
   "cell_type": "code",
   "execution_count": 18,
   "id": "8b301f7e",
   "metadata": {},
   "outputs": [
    {
     "data": {
      "text/html": [
       "<div>\n",
       "<style scoped>\n",
       "    .dataframe tbody tr th:only-of-type {\n",
       "        vertical-align: middle;\n",
       "    }\n",
       "\n",
       "    .dataframe tbody tr th {\n",
       "        vertical-align: top;\n",
       "    }\n",
       "\n",
       "    .dataframe thead th {\n",
       "        text-align: right;\n",
       "    }\n",
       "</style>\n",
       "<table border=\"1\" class=\"dataframe\">\n",
       "  <thead>\n",
       "    <tr style=\"text-align: right;\">\n",
       "      <th></th>\n",
       "      <th>rester au foyer</th>\n",
       "      <th>trav. à mi-temps</th>\n",
       "      <th>trav. plein temps</th>\n",
       "    </tr>\n",
       "  </thead>\n",
       "  <tbody>\n",
       "    <tr>\n",
       "      <th>2 conj. tr. également</th>\n",
       "      <td>0.046</td>\n",
       "      <td>0.126</td>\n",
       "      <td>0.334</td>\n",
       "    </tr>\n",
       "    <tr>\n",
       "      <th>trav. mari + absorbant</th>\n",
       "      <td>0.106</td>\n",
       "      <td>0.363</td>\n",
       "      <td>0.369</td>\n",
       "    </tr>\n",
       "    <tr>\n",
       "      <th>seul le mari trav.</th>\n",
       "      <td>0.849</td>\n",
       "      <td>0.510</td>\n",
       "      <td>0.297</td>\n",
       "    </tr>\n",
       "    <tr>\n",
       "      <th>Somme</th>\n",
       "      <td>1.000</td>\n",
       "      <td>1.000</td>\n",
       "      <td>1.000</td>\n",
       "    </tr>\n",
       "  </tbody>\n",
       "</table>\n",
       "</div>"
      ],
      "text/plain": [
       "                        rester au foyer  trav. à mi-temps  trav. plein temps\n",
       "2 conj. tr. également             0.046             0.126              0.334\n",
       "trav. mari + absorbant            0.106             0.363              0.369\n",
       "seul le mari trav.                0.849             0.510              0.297\n",
       "Somme                             1.000             1.000              1.000"
      ]
     },
     "metadata": {},
     "output_type": "display_data"
    }
   ],
   "source": [
    "## Profils colonnes\n",
    "import numpy as np\n",
    "colprof = donnee.apply(lambda x:x/np.sum(x), axis=0)\n",
    "somme = pd.DataFrame(colprof.sum(axis = 0).values.reshape(1,p),\n",
    "                     index = [\"Somme\"], \n",
    "                     columns = donnee.columns)\n",
    "colprofdf = pd.concat([colprof, somme], axis = 0)\n",
    "display(colprofdf.round(3))"
   ]
  },
  {
   "cell_type": "code",
   "execution_count": 19,
   "id": "630874e5",
   "metadata": {},
   "outputs": [
    {
     "data": {
      "image/png": "[encoded data removed]",
      "text/plain": [
       "<Figure size 1152x576 with 1 Axes>"
      ]
     },
     "metadata": {
      "needs_background": "light"
     },
     "output_type": "display_data"
    }
   ],
   "source": [
    "# Graphique\n",
    "colprof.transpose().plot(kind = \"bar\",stacked=True, figsize=(16,8))\n",
    "plt.ylabel('Distribution conditionnelle',fontsize=12)\n",
    "plt.xlabel('Modalités V2', fontsize=12)\n",
    "plt.title('Profils colonnes',fontsize=12)\n",
    "plt.show()"
   ]
  },
  {
   "cell_type": "code",
   "execution_count": 20,
   "id": "aefe68c0",
   "metadata": {},
   "outputs": [
    {
     "data": {
      "text/html": [
       "<div>\n",
       "<style scoped>\n",
       "    .dataframe tbody tr th:only-of-type {\n",
       "        vertical-align: middle;\n",
       "    }\n",
       "\n",
       "    .dataframe tbody tr th {\n",
       "        vertical-align: top;\n",
       "    }\n",
       "\n",
       "    .dataframe thead th {\n",
       "        text-align: right;\n",
       "    }\n",
       "</style>\n",
       "<table border=\"1\" class=\"dataframe\">\n",
       "  <thead>\n",
       "    <tr style=\"text-align: right;\">\n",
       "      <th></th>\n",
       "      <th>rester au foyer</th>\n",
       "      <th>trav. à mi-temps</th>\n",
       "      <th>trav. plein temps</th>\n",
       "      <th>Profil moyen</th>\n",
       "    </tr>\n",
       "  </thead>\n",
       "  <tbody>\n",
       "    <tr>\n",
       "      <th>2 conj. tr. également</th>\n",
       "      <td>0.046</td>\n",
       "      <td>0.126</td>\n",
       "      <td>0.334</td>\n",
       "      <td>0.151</td>\n",
       "    </tr>\n",
       "    <tr>\n",
       "      <th>trav. mari + absorbant</th>\n",
       "      <td>0.106</td>\n",
       "      <td>0.363</td>\n",
       "      <td>0.369</td>\n",
       "      <td>0.322</td>\n",
       "    </tr>\n",
       "    <tr>\n",
       "      <th>seul le mari trav.</th>\n",
       "      <td>0.849</td>\n",
       "      <td>0.510</td>\n",
       "      <td>0.297</td>\n",
       "      <td>0.527</td>\n",
       "    </tr>\n",
       "    <tr>\n",
       "      <th>Somme</th>\n",
       "      <td>1.000</td>\n",
       "      <td>1.000</td>\n",
       "      <td>1.000</td>\n",
       "      <td>1.000</td>\n",
       "    </tr>\n",
       "  </tbody>\n",
       "</table>\n",
       "</div>"
      ],
      "text/plain": [
       "                        rester au foyer  trav. à mi-temps  trav. plein temps  \\\n",
       "2 conj. tr. également             0.046             0.126              0.334   \n",
       "trav. mari + absorbant            0.106             0.363              0.369   \n",
       "seul le mari trav.                0.849             0.510              0.297   \n",
       "Somme                             1.000             1.000              1.000   \n",
       "\n",
       "                        Profil moyen  \n",
       "2 conj. tr. également          0.151  \n",
       "trav. mari + absorbant         0.322  \n",
       "seul le mari trav.             0.527  \n",
       "Somme                          1.000  "
      ]
     },
     "metadata": {},
     "output_type": "display_data"
    }
   ],
   "source": [
    "# Profil ligne moyen\n",
    "colmean = rowsum/rowsum.sum()\n",
    "colmeandf = pd.DataFrame(colmean.values.reshape(n,1),\n",
    "                         columns = [\"Profil moyen\"],index = donnee.index)\n",
    "coldata = pd.concat([colprof, colmeandf], axis = 1)\n",
    "coldata.loc['Somme',:] = coldata.sum(axis=0)\n",
    "display(coldata.round(3))"
   ]
  },
  {
   "cell_type": "code",
   "execution_count": 21,
   "id": "5c97e704",
   "metadata": {},
   "outputs": [
    {
     "data": {
      "image/png": "[encoded data removed]",
      "text/plain": [
       "<Figure size 1152x576 with 1 Axes>"
      ]
     },
     "metadata": {
      "needs_background": "light"
     },
     "output_type": "display_data"
    }
   ],
   "source": [
    "# Graphique\n",
    "coldata.transpose().iloc[:,[0,1,2]].plot(kind = \"bar\",stacked=True, figsize=(16,8))\n",
    "plt.ylabel('Distribution conditionnelle',fontsize=12)\n",
    "plt.xlabel('Modalités V2', fontsize=12)\n",
    "plt.title('Profils colonnes',fontsize=12)\n",
    "plt.show()"
   ]
  },
  {
   "cell_type": "markdown",
   "id": "0128ecf2",
   "metadata": {},
   "source": [
    "## Le Nuage et leur ajustement\n",
    "\n",
    "### Le nuage des profils lignes"
   ]
  },
  {
   "cell_type": "code",
   "execution_count": 22,
   "id": "6f0a16bc",
   "metadata": {},
   "outputs": [
    {
     "data": {
      "text/html": [
       "<div>\n",
       "<style scoped>\n",
       "    .dataframe tbody tr th:only-of-type {\n",
       "        vertical-align: middle;\n",
       "    }\n",
       "\n",
       "    .dataframe tbody tr th {\n",
       "        vertical-align: top;\n",
       "    }\n",
       "\n",
       "    .dataframe thead th {\n",
       "        text-align: right;\n",
       "    }\n",
       "</style>\n",
       "<table border=\"1\" class=\"dataframe\">\n",
       "  <thead>\n",
       "    <tr style=\"text-align: right;\">\n",
       "      <th></th>\n",
       "      <th>2 conj. tr. également</th>\n",
       "      <th>trav. mari + absorbant</th>\n",
       "      <th>seul le mari trav.</th>\n",
       "    </tr>\n",
       "  </thead>\n",
       "  <tbody>\n",
       "    <tr>\n",
       "      <th>2 conj. tr. également</th>\n",
       "      <td>0.0</td>\n",
       "      <td>0.264</td>\n",
       "      <td>0.792</td>\n",
       "    </tr>\n",
       "    <tr>\n",
       "      <th>trav. mari + absorbant</th>\n",
       "      <td>0.0</td>\n",
       "      <td>0.000</td>\n",
       "      <td>0.350</td>\n",
       "    </tr>\n",
       "    <tr>\n",
       "      <th>seul le mari trav.</th>\n",
       "      <td>0.0</td>\n",
       "      <td>0.000</td>\n",
       "      <td>0.000</td>\n",
       "    </tr>\n",
       "  </tbody>\n",
       "</table>\n",
       "</div>"
      ],
      "text/plain": [
       "                        2 conj. tr. également  trav. mari + absorbant  \\\n",
       "2 conj. tr. également                     0.0                   0.264   \n",
       "trav. mari + absorbant                    0.0                   0.000   \n",
       "seul le mari trav.                        0.0                   0.000   \n",
       "\n",
       "                        seul le mari trav.  \n",
       "2 conj. tr. également                0.792  \n",
       "trav. mari + absorbant               0.350  \n",
       "seul le mari trav.                   0.000  "
      ]
     },
     "metadata": {},
     "output_type": "display_data"
    }
   ],
   "source": [
    "# Distance entre paires de modalités lignes\n",
    "rowdist = np.zeros(shape = (rowprof.shape[0], rowprof.shape[0]))\n",
    "value = rowprof.values\n",
    "for i in range(rowprof.shape[0]-1):\n",
    "    for j in range(i+1, rowprof.shape[0]):\n",
    "        rowdist[i,j] = np.sum((value[i,:]-value[j,:])**2/rowmean.values)\n",
    "# Affichage\n",
    "rowdistdf = pd.DataFrame(rowdist,index = donnee.index,\n",
    "                        columns = donnee.index)\n",
    "display(rowdistdf.round(3))"
   ]
  },
  {
   "cell_type": "code",
   "execution_count": 23,
   "id": "17658a62",
   "metadata": {},
   "outputs": [
    {
     "data": {
      "image/png": "[encoded data removed]",
      "text/plain": [
       "<Figure size 648x432 with 2 Axes>"
      ]
     },
     "metadata": {
      "needs_background": "light"
     },
     "output_type": "display_data"
    }
   ],
   "source": [
    "# Graphique\n",
    "import seaborn as sns\n",
    "plt.figure(figsize = (9,6))\n",
    "sns.heatmap(rowdistdf, vmin = 0, vmax = np.max(rowdist),\n",
    "           linewidth = 0.1, cmap = \"Blues\", xticklabels = donnee.index,\n",
    "           yticklabels = donnee.index)\n",
    "plt.title('Distances entre profils lignes',fontsize=12)\n",
    "plt.xlabel('Modalités V1',fontsize=12)\n",
    "plt.ylabel('Modalités V1',fontsize=12)\n",
    "plt.show()"
   ]
  },
  {
   "cell_type": "code",
   "execution_count": 24,
   "id": "70f08251",
   "metadata": {},
   "outputs": [
    {
     "data": {
      "text/plain": [
       "2 conj. tr. également     0.367\n",
       "trav. mari + absorbant    0.089\n",
       "seul le mari trav.        0.097\n",
       "dtype: float64"
      ]
     },
     "metadata": {},
     "output_type": "display_data"
    }
   ],
   "source": [
    "# Distance à l'origine\n",
    "rowdisto = rowprof.apply(lambda x :np.sum((x - rowmean.values)**2/rowmean.values),\n",
    "                         axis = 1)\n",
    "display(rowdisto.round(3))"
   ]
  },
  {
   "cell_type": "code",
   "execution_count": 25,
   "id": "7ffcd15e",
   "metadata": {},
   "outputs": [
    {
     "data": {
      "text/html": [
       "<div>\n",
       "<style scoped>\n",
       "    .dataframe tbody tr th:only-of-type {\n",
       "        vertical-align: middle;\n",
       "    }\n",
       "\n",
       "    .dataframe tbody tr th {\n",
       "        vertical-align: top;\n",
       "    }\n",
       "\n",
       "    .dataframe thead th {\n",
       "        text-align: right;\n",
       "    }\n",
       "</style>\n",
       "<table border=\"1\" class=\"dataframe\">\n",
       "  <thead>\n",
       "    <tr style=\"text-align: right;\">\n",
       "      <th></th>\n",
       "      <th>Disto2</th>\n",
       "      <th>poids</th>\n",
       "      <th>Inertie</th>\n",
       "    </tr>\n",
       "  </thead>\n",
       "  <tbody>\n",
       "    <tr>\n",
       "      <th>2 conj. tr. également</th>\n",
       "      <td>0.3665</td>\n",
       "      <td>0.1514</td>\n",
       "      <td>0.0555</td>\n",
       "    </tr>\n",
       "    <tr>\n",
       "      <th>trav. mari + absorbant</th>\n",
       "      <td>0.0891</td>\n",
       "      <td>0.3219</td>\n",
       "      <td>0.0287</td>\n",
       "    </tr>\n",
       "    <tr>\n",
       "      <th>seul le mari trav.</th>\n",
       "      <td>0.0973</td>\n",
       "      <td>0.5267</td>\n",
       "      <td>0.0512</td>\n",
       "    </tr>\n",
       "  </tbody>\n",
       "</table>\n",
       "</div>"
      ],
      "text/plain": [
       "                        Disto2   poids  Inertie\n",
       "2 conj. tr. également   0.3665  0.1514   0.0555\n",
       "trav. mari + absorbant  0.0891  0.3219   0.0287\n",
       "seul le mari trav.      0.0973  0.5267   0.0512"
      ]
     },
     "metadata": {},
     "output_type": "display_data"
    }
   ],
   "source": [
    "# Poids des lignes\n",
    "rowweight = rowsum.values/rowsum.values.sum()\n",
    "# Inertie des lignes\n",
    "rowinertie = rowdisto*rowweight\n",
    "# Affichage\n",
    "rowinfos = pd.DataFrame(np.transpose([rowdisto, rowweight, rowinertie]),\n",
    "                        columns = [\"Disto2\", \"poids\", \"Inertie\"],\n",
    "                        index = donnee.index)\n",
    "display(rowinfos.round(4))"
   ]
  },
  {
   "cell_type": "code",
   "execution_count": 26,
   "id": "6c8a2c2e",
   "metadata": {},
   "outputs": [
    {
     "name": "stdout",
     "output_type": "stream",
     "text": [
      "Inertie totale : 0.1354\n"
     ]
    }
   ],
   "source": [
    "# Inertie total\n",
    "inertietot = np.sum(rowinertie)\n",
    "print(\"Inertie totale : %.4f\" %(inertietot))"
   ]
  },
  {
   "cell_type": "markdown",
   "id": "ffbb247f",
   "metadata": {},
   "source": [
    "### Le nuage des profils colonnes"
   ]
  },
  {
   "cell_type": "code",
   "execution_count": 27,
   "id": "e00a1d50",
   "metadata": {},
   "outputs": [
    {
     "data": {
      "text/html": [
       "<div>\n",
       "<style scoped>\n",
       "    .dataframe tbody tr th:only-of-type {\n",
       "        vertical-align: middle;\n",
       "    }\n",
       "\n",
       "    .dataframe tbody tr th {\n",
       "        vertical-align: top;\n",
       "    }\n",
       "\n",
       "    .dataframe thead th {\n",
       "        text-align: right;\n",
       "    }\n",
       "</style>\n",
       "<table border=\"1\" class=\"dataframe\">\n",
       "  <thead>\n",
       "    <tr style=\"text-align: right;\">\n",
       "      <th></th>\n",
       "      <th>rester au foyer</th>\n",
       "      <th>trav. à mi-temps</th>\n",
       "      <th>trav. plein temps</th>\n",
       "    </tr>\n",
       "  </thead>\n",
       "  <tbody>\n",
       "    <tr>\n",
       "      <th>rester au foyer</th>\n",
       "      <td>0.0</td>\n",
       "      <td>0.4666</td>\n",
       "      <td>1.3445</td>\n",
       "    </tr>\n",
       "    <tr>\n",
       "      <th>trav. à mi-temps</th>\n",
       "      <td>0.0</td>\n",
       "      <td>0.0000</td>\n",
       "      <td>0.3724</td>\n",
       "    </tr>\n",
       "    <tr>\n",
       "      <th>trav. plein temps</th>\n",
       "      <td>0.0</td>\n",
       "      <td>0.0000</td>\n",
       "      <td>0.0000</td>\n",
       "    </tr>\n",
       "  </tbody>\n",
       "</table>\n",
       "</div>"
      ],
      "text/plain": [
       "                   rester au foyer  trav. à mi-temps  trav. plein temps\n",
       "rester au foyer                0.0            0.4666             1.3445\n",
       "trav. à mi-temps               0.0            0.0000             0.3724\n",
       "trav. plein temps              0.0            0.0000             0.0000"
      ]
     },
     "metadata": {},
     "output_type": "display_data"
    }
   ],
   "source": [
    "# Distance entre paires de modalités lignes\n",
    "coldist = np.zeros(shape = (colprof.shape[0], colprof.shape[0]))\n",
    "value = colprof.values.transpose()\n",
    "for i in range(colprof.shape[0]-1):\n",
    "    for j in range(i+1, colprof.shape[0]):\n",
    "        coldist[i,j] = np.sum((value[i,:]-value[j,:])**2/colmean.values)\n",
    "# Affichage\n",
    "coldistdf = pd.DataFrame(coldist, index = donnee.columns,\n",
    "                        columns = donnee.columns)\n",
    "display(coldistdf.round(4))"
   ]
  },
  {
   "cell_type": "code",
   "execution_count": 28,
   "id": "2d17bcf5",
   "metadata": {},
   "outputs": [
    {
     "data": {
      "image/png": "[encoded data removed]",
      "text/plain": [
       "<Figure size 648x432 with 2 Axes>"
      ]
     },
     "metadata": {
      "needs_background": "light"
     },
     "output_type": "display_data"
    }
   ],
   "source": [
    "# Graphique\n",
    "plt.figure(figsize = (9,6))\n",
    "sns.heatmap(coldistdf, vmin = 0, vmax = np.max(rowdist),\n",
    "           linewidth = 0.1, cmap = \"Blues\", xticklabels = donnee.columns,\n",
    "           yticklabels = donnee.columns)\n",
    "plt.title('Distances entre profils colonnes',fontsize=12)\n",
    "plt.xlabel('Modalités V2',fontsize=12)\n",
    "plt.ylabel('Modalités V2',fontsize=12)\n",
    "plt.show()"
   ]
  },
  {
   "cell_type": "code",
   "execution_count": 29,
   "id": "4a3c84aa",
   "metadata": {},
   "outputs": [
    {
     "data": {
      "text/plain": [
       "rester au foyer      0.4158\n",
       "trav. à mi-temps     0.0099\n",
       "trav. plein temps    0.3287\n",
       "dtype: float64"
      ]
     },
     "metadata": {},
     "output_type": "display_data"
    }
   ],
   "source": [
    "# Distance à l'origine\n",
    "mean = colmean.values\n",
    "coldisto = colprof.transpose().apply(lambda x : np.sum((x-mean)**2/mean),\n",
    "                                     axis = 1)\n",
    "display(coldisto.round(4))"
   ]
  },
  {
   "cell_type": "code",
   "execution_count": 30,
   "id": "d641f722",
   "metadata": {},
   "outputs": [
    {
     "data": {
      "text/html": [
       "<div>\n",
       "<style scoped>\n",
       "    .dataframe tbody tr th:only-of-type {\n",
       "        vertical-align: middle;\n",
       "    }\n",
       "\n",
       "    .dataframe tbody tr th {\n",
       "        vertical-align: top;\n",
       "    }\n",
       "\n",
       "    .dataframe thead th {\n",
       "        text-align: right;\n",
       "    }\n",
       "</style>\n",
       "<table border=\"1\" class=\"dataframe\">\n",
       "  <thead>\n",
       "    <tr style=\"text-align: right;\">\n",
       "      <th></th>\n",
       "      <th>Disto2</th>\n",
       "      <th>poids</th>\n",
       "      <th>Inertie</th>\n",
       "    </tr>\n",
       "  </thead>\n",
       "  <tbody>\n",
       "    <tr>\n",
       "      <th>rester au foyer</th>\n",
       "      <td>0.4158</td>\n",
       "      <td>0.1647</td>\n",
       "      <td>0.0685</td>\n",
       "    </tr>\n",
       "    <tr>\n",
       "      <th>trav. à mi-temps</th>\n",
       "      <td>0.0099</td>\n",
       "      <td>0.6514</td>\n",
       "      <td>0.0065</td>\n",
       "    </tr>\n",
       "    <tr>\n",
       "      <th>trav. plein temps</th>\n",
       "      <td>0.3287</td>\n",
       "      <td>0.1839</td>\n",
       "      <td>0.0604</td>\n",
       "    </tr>\n",
       "  </tbody>\n",
       "</table>\n",
       "</div>"
      ],
      "text/plain": [
       "                   Disto2   poids  Inertie\n",
       "rester au foyer    0.4158  0.1647   0.0685\n",
       "trav. à mi-temps   0.0099  0.6514   0.0065\n",
       "trav. plein temps  0.3287  0.1839   0.0604"
      ]
     },
     "metadata": {},
     "output_type": "display_data"
    }
   ],
   "source": [
    "# Poids des lignes\n",
    "colweight = colsum.values/colsum.values.sum()\n",
    "# Inertie des lignes\n",
    "colinertie = coldisto*colweight\n",
    "# Affichage\n",
    "colinfos = pd.DataFrame(np.transpose([coldisto, colweight, colinertie]),\n",
    "                       columns = [\"Disto2\", \"poids\", \"Inertie\"],\n",
    "                       index = donnee.columns)\n",
    "display(colinfos.round(4))"
   ]
  },
  {
   "cell_type": "code",
   "execution_count": 31,
   "id": "e0ed2b97",
   "metadata": {},
   "outputs": [
    {
     "name": "stdout",
     "output_type": "stream",
     "text": [
      "Inertie totale : 0.1354\n"
     ]
    }
   ],
   "source": [
    "# Inertie total\n",
    "inertietot = np.sum(colinertie)\n",
    "print(\"Inertie totale : %.4f\" %(inertietot))"
   ]
  },
  {
   "cell_type": "markdown",
   "id": "97ab541b",
   "metadata": {},
   "source": [
    "### Représentation du nuage des lignes"
   ]
  },
  {
   "cell_type": "code",
   "execution_count": 32,
   "id": "71b5d5c8",
   "metadata": {},
   "outputs": [
    {
     "data": {
      "text/html": [
       "<div>\n",
       "<style scoped>\n",
       "    .dataframe tbody tr th:only-of-type {\n",
       "        vertical-align: middle;\n",
       "    }\n",
       "\n",
       "    .dataframe tbody tr th {\n",
       "        vertical-align: top;\n",
       "    }\n",
       "\n",
       "    .dataframe thead th {\n",
       "        text-align: right;\n",
       "    }\n",
       "</style>\n",
       "<table border=\"1\" class=\"dataframe\">\n",
       "  <thead>\n",
       "    <tr style=\"text-align: right;\">\n",
       "      <th></th>\n",
       "      <th>rester au foyer</th>\n",
       "      <th>trav. à mi-temps</th>\n",
       "      <th>trav. plein temps</th>\n",
       "    </tr>\n",
       "  </thead>\n",
       "  <tbody>\n",
       "    <tr>\n",
       "      <th>2 conj. tr. également</th>\n",
       "      <td>-4.5745</td>\n",
       "      <td>-2.1484</td>\n",
       "      <td>8.3736</td>\n",
       "    </tr>\n",
       "    <tr>\n",
       "      <th>trav. mari + absorbant</th>\n",
       "      <td>-6.4242</td>\n",
       "      <td>2.4444</td>\n",
       "      <td>1.4799</td>\n",
       "    </tr>\n",
       "    <tr>\n",
       "      <th>seul le mari trav.</th>\n",
       "      <td>7.4751</td>\n",
       "      <td>-0.7592</td>\n",
       "      <td>-5.6464</td>\n",
       "    </tr>\n",
       "  </tbody>\n",
       "</table>\n",
       "</div>"
      ],
      "text/plain": [
       "                        rester au foyer  trav. à mi-temps  trav. plein temps\n",
       "2 conj. tr. également           -4.5745           -2.1484             8.3736\n",
       "trav. mari + absorbant          -6.4242            2.4444             1.4799\n",
       "seul le mari trav.               7.4751           -0.7592            -5.6464"
      ]
     },
     "metadata": {},
     "output_type": "display_data"
    }
   ],
   "source": [
    "# Matrice des résidus standardisés\n",
    "resStd = (donnee.values - efftheorik)/np.sqrt(efftheorik)\n",
    "display(resStd.round(4))"
   ]
  },
  {
   "cell_type": "code",
   "execution_count": 33,
   "id": "e4df1df3",
   "metadata": {},
   "outputs": [
    {
     "data": {
      "text/html": [
       "<div>\n",
       "<style scoped>\n",
       "    .dataframe tbody tr th:only-of-type {\n",
       "        vertical-align: middle;\n",
       "    }\n",
       "\n",
       "    .dataframe tbody tr th {\n",
       "        vertical-align: top;\n",
       "    }\n",
       "\n",
       "    .dataframe thead th {\n",
       "        text-align: right;\n",
       "    }\n",
       "</style>\n",
       "<table border=\"1\" class=\"dataframe\">\n",
       "  <thead>\n",
       "    <tr style=\"text-align: right;\">\n",
       "      <th></th>\n",
       "      <th>rester au foyer</th>\n",
       "      <th>trav. à mi-temps</th>\n",
       "      <th>trav. plein temps</th>\n",
       "    </tr>\n",
       "  </thead>\n",
       "  <tbody>\n",
       "    <tr>\n",
       "      <th>2 conj. tr. également</th>\n",
       "      <td>-0.1102</td>\n",
       "      <td>-0.0517</td>\n",
       "      <td>0.2017</td>\n",
       "    </tr>\n",
       "    <tr>\n",
       "      <th>trav. mari + absorbant</th>\n",
       "      <td>-0.1547</td>\n",
       "      <td>0.0589</td>\n",
       "      <td>0.0356</td>\n",
       "    </tr>\n",
       "    <tr>\n",
       "      <th>seul le mari trav.</th>\n",
       "      <td>0.1800</td>\n",
       "      <td>-0.0183</td>\n",
       "      <td>-0.1360</td>\n",
       "    </tr>\n",
       "  </tbody>\n",
       "</table>\n",
       "</div>"
      ],
      "text/plain": [
       "                        rester au foyer  trav. à mi-temps  trav. plein temps\n",
       "2 conj. tr. également           -0.1102           -0.0517             0.2017\n",
       "trav. mari + absorbant          -0.1547            0.0589             0.0356\n",
       "seul le mari trav.               0.1800           -0.0183            -0.1360"
      ]
     },
     "metadata": {},
     "output_type": "display_data"
    }
   ],
   "source": [
    "# Matrice M\n",
    "M = resStd/np.sqrt(neff)\n",
    "display(M.round(4))"
   ]
  },
  {
   "cell_type": "code",
   "execution_count": 34,
   "id": "65ffe3e9",
   "metadata": {},
   "outputs": [],
   "source": [
    "# Décomposition en valeurs singulières (svd)\n",
    "U,delta,V = np.linalg.svd(M)"
   ]
  },
  {
   "cell_type": "code",
   "execution_count": 35,
   "id": "30d02ba1",
   "metadata": {},
   "outputs": [
    {
     "name": "stdout",
     "output_type": "stream",
     "text": [
      "[3.41818701e-01 1.36236740e-01 1.72095781e-17]\n"
     ]
    }
   ],
   "source": [
    "# delta\n",
    "print(delta)"
   ]
  },
  {
   "cell_type": "code",
   "execution_count": 36,
   "id": "67551390",
   "metadata": {},
   "outputs": [
    {
     "name": "stdout",
     "output_type": "stream",
     "text": [
      "[0.117 0.019 0.   ]\n"
     ]
    }
   ],
   "source": [
    "# Valeurs singulières au carré\n",
    "np.set_printoptions(precision=3,suppress = True)\n",
    "eigen = delta**2\n",
    "print(eigen)"
   ]
  },
  {
   "cell_type": "code",
   "execution_count": 37,
   "id": "c96bec89",
   "metadata": {},
   "outputs": [
    {
     "data": {
      "text/html": [
       "<div>\n",
       "<style scoped>\n",
       "    .dataframe tbody tr th:only-of-type {\n",
       "        vertical-align: middle;\n",
       "    }\n",
       "\n",
       "    .dataframe tbody tr th {\n",
       "        vertical-align: top;\n",
       "    }\n",
       "\n",
       "    .dataframe thead th {\n",
       "        text-align: right;\n",
       "    }\n",
       "</style>\n",
       "<table border=\"1\" class=\"dataframe\">\n",
       "  <thead>\n",
       "    <tr style=\"text-align: right;\">\n",
       "      <th></th>\n",
       "      <th>valeur propre</th>\n",
       "      <th>pourcentage d'inertie</th>\n",
       "      <th>pourcentage d'inertie cumulée</th>\n",
       "    </tr>\n",
       "    <tr>\n",
       "      <th>Dimension</th>\n",
       "      <th></th>\n",
       "      <th></th>\n",
       "      <th></th>\n",
       "    </tr>\n",
       "  </thead>\n",
       "  <tbody>\n",
       "    <tr>\n",
       "      <th>Dim.1</th>\n",
       "      <td>0.117</td>\n",
       "      <td>86.292</td>\n",
       "      <td>86.292</td>\n",
       "    </tr>\n",
       "    <tr>\n",
       "      <th>Dim.2</th>\n",
       "      <td>0.019</td>\n",
       "      <td>13.708</td>\n",
       "      <td>100.000</td>\n",
       "    </tr>\n",
       "  </tbody>\n",
       "</table>\n",
       "</div>"
      ],
      "text/plain": [
       "           valeur propre  pourcentage d'inertie  pourcentage d'inertie cumulée\n",
       "Dimension                                                                     \n",
       "Dim.1              0.117                 86.292                         86.292\n",
       "Dim.2              0.019                 13.708                        100.000"
      ]
     },
     "metadata": {},
     "output_type": "display_data"
    }
   ],
   "source": [
    "# Nombre d'axes maximales\n",
    "fmax = min(n-1, p-1)\n",
    "# Valeur propre\n",
    "eigenvalue = eigen[:fmax]\n",
    "percent = np.array([100*x/sum(eigenvalue) for x in eigenvalue])\n",
    "cumpercent = np.cumsum(percent)\n",
    "# dataframe\n",
    "index = ['Dim.{}'.format(x+1) for x in range(fmax)]\n",
    "columns = ['valeur propre','pourcentage d\\'inertie',\n",
    "           'pourcentage d\\'inertie cumulée']\n",
    "Eigen = pd.DataFrame(np.transpose([eigenvalue,percent,cumpercent]),\n",
    "                     index=index,columns = columns)\n",
    "Eigen.index.name = 'Dimension'\n",
    "# Affichage\n",
    "display(Eigen.round(3))"
   ]
  },
  {
   "cell_type": "code",
   "execution_count": 38,
   "id": "40e94367",
   "metadata": {},
   "outputs": [
    {
     "data": {
      "image/png": "[encoded data removed]",
      "text/plain": [
       "<Figure size 576x432 with 1 Axes>"
      ]
     },
     "metadata": {
      "needs_background": "light"
     },
     "output_type": "display_data"
    }
   ],
   "source": [
    "# Visualisation des valeurs propres\n",
    "def screeplot(data,choice=None,figsize=None):\n",
    "    #\n",
    "    p = data.shape[0]\n",
    "    fig,axes = plt.subplots(figsize = figsize); axes.grid()\n",
    "    axes.set_xlabel('Dimensions',fontsize=14)\n",
    "    axes.set_title('Scree plot',fontsize=14)\n",
    "    axes.set_xticks([x for x in range(1,p+1)])\n",
    "    if choice is None or choice=='scree plot':\n",
    "        eigen = data.iloc[:,0].round(3)\n",
    "        ylim = np.max(eigen)+.05\n",
    "        axes.set_ylim(0,ylim)\n",
    "        axes.bar(np.arange(1,p+1),eigen.values,width=0.9)\n",
    "        axes.plot(np.arange(1,p+1),eigen.values,c=\"black\")\n",
    "        axes.set_ylabel('Eigenvalue',fontsize=13)\n",
    "        ## Add text\n",
    "        for i in range(p):\n",
    "            axes.scatter(i+1,eigen.values[i],color='black',alpha=1)\n",
    "            axes.text(i+0.9,eigen.values[i],str(eigen.values[i]),\n",
    "                     color = 'black',fontsize=11)\n",
    "    elif choice == \"percentage\":\n",
    "        percent = data.iloc[:,1].round()\n",
    "        axes.set_ylim(0,100)\n",
    "        axes.bar(np.arange(1,p+1),percent.values,width=0.9)\n",
    "        axes.plot(np.arange(1,p+1),percent.values,c=\"black\")\n",
    "        axes.set_ylabel('Percentage of variance',fontsize=13)\n",
    "        ## Add text\n",
    "        for i in range(p):\n",
    "            axes.scatter(i+1,percent.values[i],color='black',alpha=1)\n",
    "            axes.text(i+0.9,percent.values[i],f'{percent.values[i]}%',\n",
    "                     color = 'black',fontweight='bold',fontsize=12)\n",
    "    elif choice == \"cumulative\":\n",
    "        cumul = data.iloc[:,2].round()\n",
    "        axes.set_ylim(0,105)\n",
    "        axes.bar(np.arange(1,p+1),cumul.values,width=0.9)\n",
    "        axes.set_ylabel('Cumulative percentage of variance',fontsize=13)\n",
    "    plt.show()\n",
    "# Affichage\n",
    "screeplot(data=Eigen,figsize=(8,6))"
   ]
  },
  {
   "cell_type": "code",
   "execution_count": 39,
   "id": "82e0373c",
   "metadata": {},
   "outputs": [
    {
     "name": "stdout",
     "output_type": "stream",
     "text": [
      "Khi - deux vaut 233.43\n"
     ]
    }
   ],
   "source": [
    "# Khi-deux\n",
    "chi2 = neff*Eigen.iloc[:,0].sum()\n",
    "print(\"Khi - deux vaut %.2f\" %(chi2))"
   ]
  },
  {
   "cell_type": "markdown",
   "id": "a4c9fa3f",
   "metadata": {},
   "source": [
    "### Coordonnées des profils lignes"
   ]
  },
  {
   "cell_type": "code",
   "execution_count": 40,
   "id": "5ce274a7",
   "metadata": {},
   "outputs": [
    {
     "data": {
      "text/html": [
       "<div>\n",
       "<style scoped>\n",
       "    .dataframe tbody tr th:only-of-type {\n",
       "        vertical-align: middle;\n",
       "    }\n",
       "\n",
       "    .dataframe tbody tr th {\n",
       "        vertical-align: top;\n",
       "    }\n",
       "\n",
       "    .dataframe thead th {\n",
       "        text-align: right;\n",
       "    }\n",
       "</style>\n",
       "<table border=\"1\" class=\"dataframe\">\n",
       "  <thead>\n",
       "    <tr style=\"text-align: right;\">\n",
       "      <th>V1</th>\n",
       "      <th>2 conj. tr. également</th>\n",
       "      <th>trav. mari + absorbant</th>\n",
       "      <th>seul le mari trav.</th>\n",
       "    </tr>\n",
       "  </thead>\n",
       "  <tbody>\n",
       "    <tr>\n",
       "      <th>Dim.1</th>\n",
       "      <td>-0.559</td>\n",
       "      <td>-0.244</td>\n",
       "      <td>0.310</td>\n",
       "    </tr>\n",
       "    <tr>\n",
       "      <th>Dim.2</th>\n",
       "      <td>0.233</td>\n",
       "      <td>-0.172</td>\n",
       "      <td>0.038</td>\n",
       "    </tr>\n",
       "  </tbody>\n",
       "</table>\n",
       "</div>"
      ],
      "text/plain": [
       "V1     2 conj. tr. également  trav. mari + absorbant  seul le mari trav.\n",
       "Dim.1                 -0.559                  -0.244               0.310\n",
       "Dim.2                  0.233                  -0.172               0.038"
      ]
     },
     "metadata": {},
     "output_type": "display_data"
    }
   ],
   "source": [
    "# Coordonnées des profils lignes\n",
    "coord = pd.DataFrame(U[:,:fmax]*delta[:fmax],index = donnee.index,\n",
    "                     columns = index)\n",
    "rowcoord = coord.apply(lambda x : x/np.sqrt(rowweight), axis=0)\n",
    "rowcoord.index.name = 'V1'\n",
    "# Affichage\n",
    "display(rowcoord.T.round(3))"
   ]
  },
  {
   "cell_type": "code",
   "execution_count": 41,
   "id": "ea5677c0",
   "metadata": {},
   "outputs": [
    {
     "data": {
      "image/png": "[encoded data removed]",
      "text/plain": [
       "<Figure size 864x576 with 1 Axes>"
      ]
     },
     "metadata": {
      "needs_background": "light"
     },
     "output_type": "display_data"
    }
   ],
   "source": [
    "# Fonction de visualisation en 2D\n",
    "def ca_plot(data,eigen,axei,axej,main,figsize=None):\n",
    "    try:\n",
    "        if axei==axej:\n",
    "            raise ValueError('Erreur: axei doit être différent de axej.')\n",
    "        elif axei>axej:\n",
    "            raise ValueError('Erreur: axei doit être inférieur à axej.')\n",
    "        elif axei<0 or axej<0:\n",
    "            msg = 'Erreur: les valeurs des axes doivent être positives ou nulles.'\n",
    "            raise ValueError(msg)\n",
    "        else:\n",
    "            # set limite\n",
    "            n = data.shape[0]\n",
    "            # Valeurs propres\n",
    "            percent = np.array([100*x/sum(eigen) for x in eigen])\n",
    "            dimi = round(percent[axei],2); dimj = round(percent[axej],2)\n",
    "\n",
    "            # Graphique\n",
    "            fig, axes = plt.subplots(figsize = figsize); axes.grid()\n",
    "            axes.axis([-0.8,0.8,-0.3,0.5])\n",
    "            axes.set_title(f\"Projection des profils {main}\",fontsize=12)\n",
    "            axes.set_xlabel(f\"Dim.{1+axei} ({dimi}%)\",fontsize=12)\n",
    "            axes.set_ylabel(f\"Dim.{1+axej} ({dimj}%)\",fontsize=12)\n",
    "            for i in range(n):\n",
    "                plt.scatter(data.iloc[i,axei], data.iloc[i,axej],\n",
    "                            c = \"blue\", alpha = 1)\n",
    "                axes.text(data.iloc[i,axei]-0.10,data.iloc[i,axej]+0.01,\n",
    "                          data.index[i],color = \"blue\", fontsize = 11)\n",
    "            plt.axhline(0, color='blue',linestyle=\"--\", linewidth=0.5)\n",
    "            plt.axvline(0, color='blue',linestyle=\"--\", linewidth=0.5)\n",
    "            plt.show()\n",
    "            \n",
    "    # if false then raise the value error\n",
    "    except ValueError as e:\n",
    "            print(e) \n",
    "\n",
    "# Nuage des profils lignes sur les axes 1 et 2\n",
    "ca_plot(data=rowcoord,eigen=eigenvalue,axei=0,axej=1,\n",
    "        main = 'lignes',figsize=(12,8))"
   ]
  },
  {
   "cell_type": "code",
   "execution_count": 42,
   "id": "e2a93eb4",
   "metadata": {},
   "outputs": [
    {
     "data": {
      "text/html": [
       "<div>\n",
       "<style scoped>\n",
       "    .dataframe tbody tr th:only-of-type {\n",
       "        vertical-align: middle;\n",
       "    }\n",
       "\n",
       "    .dataframe tbody tr th {\n",
       "        vertical-align: top;\n",
       "    }\n",
       "\n",
       "    .dataframe thead th {\n",
       "        text-align: right;\n",
       "    }\n",
       "</style>\n",
       "<table border=\"1\" class=\"dataframe\">\n",
       "  <thead>\n",
       "    <tr style=\"text-align: right;\">\n",
       "      <th>V2</th>\n",
       "      <th>rester au foyer</th>\n",
       "      <th>trav. à mi-temps</th>\n",
       "      <th>trav. plein temps</th>\n",
       "    </tr>\n",
       "  </thead>\n",
       "  <tbody>\n",
       "    <tr>\n",
       "      <th>Dim.1</th>\n",
       "      <td>0.618</td>\n",
       "      <td>-0.004</td>\n",
       "      <td>-0.541</td>\n",
       "    </tr>\n",
       "    <tr>\n",
       "      <th>Dim.2</th>\n",
       "      <td>0.183</td>\n",
       "      <td>-0.100</td>\n",
       "      <td>0.189</td>\n",
       "    </tr>\n",
       "  </tbody>\n",
       "</table>\n",
       "</div>"
      ],
      "text/plain": [
       "V2     rester au foyer  trav. à mi-temps  trav. plein temps\n",
       "Dim.1            0.618            -0.004             -0.541\n",
       "Dim.2            0.183            -0.100              0.189"
      ]
     },
     "metadata": {},
     "output_type": "display_data"
    }
   ],
   "source": [
    "# Coordonnées des profils colonnes\n",
    "coordcol = pd.DataFrame(np.transpose(V[:fmax,:])*delta[:2],columns=index,\n",
    "                        index = donnee.columns)\n",
    "colcoord = coordcol.apply(lambda x : x/np.sqrt(colweight),axis=0)\n",
    "colcoord.index.name='V2'\n",
    "display(colcoord.T.round(3))"
   ]
  },
  {
   "cell_type": "code",
   "execution_count": 43,
   "id": "97128326",
   "metadata": {},
   "outputs": [
    {
     "data": {
      "image/png": "[encoded data removed]",
      "text/plain": [
       "<Figure size 864x576 with 1 Axes>"
      ]
     },
     "metadata": {
      "needs_background": "light"
     },
     "output_type": "display_data"
    }
   ],
   "source": [
    "# Nuage des profils colonnes sur les axes 1 et 2\n",
    "ca_plot(data=colcoord,eigen=eigenvalue,axei=0,axej=1,\n",
    "        main = 'colonnes',figsize=(12,8))"
   ]
  },
  {
   "cell_type": "code",
   "execution_count": 44,
   "id": "6cdecc02",
   "metadata": {},
   "outputs": [
    {
     "data": {
      "text/html": [
       "<div>\n",
       "<style scoped>\n",
       "    .dataframe tbody tr th:only-of-type {\n",
       "        vertical-align: middle;\n",
       "    }\n",
       "\n",
       "    .dataframe tbody tr th {\n",
       "        vertical-align: top;\n",
       "    }\n",
       "\n",
       "    .dataframe thead th {\n",
       "        text-align: right;\n",
       "    }\n",
       "</style>\n",
       "<table border=\"1\" class=\"dataframe\">\n",
       "  <thead>\n",
       "    <tr style=\"text-align: right;\">\n",
       "      <th>V1</th>\n",
       "      <th>2 conj. tr. également</th>\n",
       "      <th>trav. mari + absorbant</th>\n",
       "      <th>seul le mari trav.</th>\n",
       "    </tr>\n",
       "  </thead>\n",
       "  <tbody>\n",
       "    <tr>\n",
       "      <th>Dim.1</th>\n",
       "      <td>-0.559</td>\n",
       "      <td>-0.244</td>\n",
       "      <td>0.310</td>\n",
       "    </tr>\n",
       "    <tr>\n",
       "      <th>Dim.2</th>\n",
       "      <td>0.233</td>\n",
       "      <td>-0.172</td>\n",
       "      <td>0.038</td>\n",
       "    </tr>\n",
       "  </tbody>\n",
       "</table>\n",
       "</div>"
      ],
      "text/plain": [
       "V1     2 conj. tr. également  trav. mari + absorbant  seul le mari trav.\n",
       "Dim.1                 -0.559                  -0.244               0.310\n",
       "Dim.2                  0.233                  -0.172               0.038"
      ]
     },
     "metadata": {},
     "output_type": "display_data"
    }
   ],
   "source": [
    "# Relation de transition - Coordonnées profils lignes\n",
    "transition1 = rowprof.dot(colcoord)/np.sqrt(eigenvalue)\n",
    "display(transition1.iloc[:,[0,1]].T.round(3))"
   ]
  },
  {
   "cell_type": "code",
   "execution_count": 45,
   "id": "7be652b0",
   "metadata": {},
   "outputs": [
    {
     "data": {
      "text/html": [
       "<div>\n",
       "<style scoped>\n",
       "    .dataframe tbody tr th:only-of-type {\n",
       "        vertical-align: middle;\n",
       "    }\n",
       "\n",
       "    .dataframe tbody tr th {\n",
       "        vertical-align: top;\n",
       "    }\n",
       "\n",
       "    .dataframe thead th {\n",
       "        text-align: right;\n",
       "    }\n",
       "</style>\n",
       "<table border=\"1\" class=\"dataframe\">\n",
       "  <thead>\n",
       "    <tr style=\"text-align: right;\">\n",
       "      <th>V2</th>\n",
       "      <th>rester au foyer</th>\n",
       "      <th>trav. à mi-temps</th>\n",
       "      <th>trav. plein temps</th>\n",
       "    </tr>\n",
       "  </thead>\n",
       "  <tbody>\n",
       "    <tr>\n",
       "      <th>Dim.1</th>\n",
       "      <td>0.618</td>\n",
       "      <td>-0.004</td>\n",
       "      <td>-0.541</td>\n",
       "    </tr>\n",
       "    <tr>\n",
       "      <th>Dim.2</th>\n",
       "      <td>0.183</td>\n",
       "      <td>-0.100</td>\n",
       "      <td>0.189</td>\n",
       "    </tr>\n",
       "  </tbody>\n",
       "</table>\n",
       "</div>"
      ],
      "text/plain": [
       "V2     rester au foyer  trav. à mi-temps  trav. plein temps\n",
       "Dim.1            0.618            -0.004             -0.541\n",
       "Dim.2            0.183            -0.100              0.189"
      ]
     },
     "metadata": {},
     "output_type": "display_data"
    }
   ],
   "source": [
    "# Relation de transition - Coordonnées profils colonnes\n",
    "transition2 =  colprof.T.dot(rowcoord)/np.sqrt(eigenvalue)\n",
    "display(transition2.iloc[:,[0,1]].T.round(3))"
   ]
  },
  {
   "cell_type": "code",
   "execution_count": 46,
   "id": "241658ff",
   "metadata": {},
   "outputs": [
    {
     "data": {
      "image/png": "[encoded data removed]",
      "text/plain": [
       "<Figure size 864x576 with 3 Axes>"
      ]
     },
     "metadata": {
      "needs_background": "light"
     },
     "output_type": "display_data"
    }
   ],
   "source": [
    "# Nuage simultané\n",
    "def biplot(data1,data2,eigen,axei,axej,figsize=None):\n",
    "    # Représentation simultanée des indvidus et des variables\n",
    "    try:\n",
    "        if axei==axej:\n",
    "            raise ValueError('Erreur: axei doit être différent de axej.')\n",
    "        elif axei>axej:\n",
    "            raise ValueError('Erreur: axei doit être inférieur à axej.')\n",
    "        elif axei<0 or axej<0:\n",
    "            msg = 'Erreur: les valeurs des axes doivent être positives ou nulles.'\n",
    "            raise ValueError(msg)\n",
    "        else:\n",
    "            n = data1.shape[0];p=data2.shape[0]\n",
    "            # Valeurs propres\n",
    "            percent = np.array([100*x/sum(eigen) for x in eigen])\n",
    "            dimi = round(percent[axei],2); dimj = round(percent[axej],2)\n",
    "            \n",
    "            # Biplot\n",
    "            fig = plt.figure(figsize=(12,8))\n",
    "            axes1 = fig.add_subplot(111)\n",
    "            axes2 = axes1.twiny()\n",
    "            axes2 = axes2.twinx()\n",
    "            axes1.grid()\n",
    "            axes2.axis([-0.8,.8,-.6,0.6])\n",
    "            axes1.axis([-0.8,.8,-.6,0.6])\n",
    "            axes1.set_title(\"Biplot\")\n",
    "            axes1.set_xlabel(f\"Dim.{1+axei} ({dimi}%)\")\n",
    "            axes1.set_ylabel(f\"Dim.{1+axej} ({dimj}%)\")\n",
    "            # Affichage des individus\n",
    "            for i in range(n):\n",
    "                axes1.scatter(data1.iloc[i,0],data1.iloc[i,1],\n",
    "                              c = \"blue\",alpha = 1,marker=\"^\")\n",
    "                axes1.text(data1.iloc[i,0]-0.10,data1.iloc[i,1]+0.01,\n",
    "                           data1.index[i],color = \"blue\",fontsize=12)\n",
    "            # Affichage des variables\n",
    "            for k in range(p):\n",
    "                axes2.scatter(data2.iloc[k,0],data2.iloc[k,1],\n",
    "                              color='red',alpha=1,marker=\"s\")\n",
    "                axes2.text(data2.iloc[k,0]-0.10,data2.iloc[k,1]+0.01,\n",
    "                           data2.index[k],color = \"red\",fontsize=12)\n",
    "            plt.axhline(0, color='blue',linestyle=\"--\", linewidth=0.5)\n",
    "            plt.axvline(0, color='blue',linestyle=\"--\", linewidth=0.5)\n",
    "            plt.show()\n",
    "            \n",
    "    except ValueError as e:\n",
    "            print(e)  \n",
    "\n",
    "# Affichage\n",
    "biplot(data1=rowcoord,data2=colcoord,eigen=eigenvalue,axei=0,axej=1,\n",
    "       figsize=(10,10))"
   ]
  },
  {
   "cell_type": "markdown",
   "id": "fb73ba80",
   "metadata": {},
   "source": [
    "## Aide à l'interprétation\n",
    "\n",
    "### Analyse des points lignes\n",
    "\n",
    "#### Cosinus carré des points lignes"
   ]
  },
  {
   "cell_type": "code",
   "execution_count": 47,
   "id": "7101cf4e",
   "metadata": {
    "scrolled": true
   },
   "outputs": [
    {
     "data": {
      "text/html": [
       "<div>\n",
       "<style scoped>\n",
       "    .dataframe tbody tr th:only-of-type {\n",
       "        vertical-align: middle;\n",
       "    }\n",
       "\n",
       "    .dataframe tbody tr th {\n",
       "        vertical-align: top;\n",
       "    }\n",
       "\n",
       "    .dataframe thead th {\n",
       "        text-align: right;\n",
       "    }\n",
       "</style>\n",
       "<table border=\"1\" class=\"dataframe\">\n",
       "  <thead>\n",
       "    <tr style=\"text-align: right;\">\n",
       "      <th>V1</th>\n",
       "      <th>2 conj. tr. également</th>\n",
       "      <th>trav. mari + absorbant</th>\n",
       "      <th>seul le mari trav.</th>\n",
       "    </tr>\n",
       "  </thead>\n",
       "  <tbody>\n",
       "    <tr>\n",
       "      <th>Dim.1</th>\n",
       "      <td>0.851</td>\n",
       "      <td>0.667</td>\n",
       "      <td>0.985</td>\n",
       "    </tr>\n",
       "    <tr>\n",
       "      <th>Dim.2</th>\n",
       "      <td>0.149</td>\n",
       "      <td>0.333</td>\n",
       "      <td>0.015</td>\n",
       "    </tr>\n",
       "  </tbody>\n",
       "</table>\n",
       "</div>"
      ],
      "text/plain": [
       "V1     2 conj. tr. également  trav. mari + absorbant  seul le mari trav.\n",
       "Dim.1                  0.851                   0.667               0.985\n",
       "Dim.2                  0.149                   0.333               0.015"
      ]
     },
     "metadata": {},
     "output_type": "display_data"
    }
   ],
   "source": [
    "# Cosinus des modalités lignes\n",
    "rowcos2 = rowcoord.apply(lambda x: x**2/rowdisto.values, axis = 0)\n",
    "display(rowcos2.T.round(3))"
   ]
  },
  {
   "cell_type": "code",
   "execution_count": 48,
   "id": "4ab8fdc0",
   "metadata": {},
   "outputs": [
    {
     "data": {
      "image/png": "[encoded data removed]",
      "text/plain": [
       "<Figure size 720x576 with 1 Axes>"
      ]
     },
     "metadata": {
      "needs_background": "light"
     },
     "output_type": "display_data"
    },
    {
     "data": {
      "image/png": "[encoded data removed]",
      "text/plain": [
       "<Figure size 720x576 with 1 Axes>"
      ]
     },
     "metadata": {
      "needs_background": "light"
     },
     "output_type": "display_data"
    }
   ],
   "source": [
    "# Affichage graphique\n",
    "def plot_graph(data,axis,xlabel,title,figsize=None):\n",
    "    p = data.shape[1]\n",
    "    try:\n",
    "        if axis<0 or axis>p:\n",
    "            raise ValueError(f'axis doit être compris entre {0} et {p-1}.')\n",
    "        else:\n",
    "            sort = data.sort_values(by=f'Dim.{1+axis}', ascending=True)\n",
    "            sort.iloc[:,axis].plot.barh(figsize=figsize)\n",
    "            plt.xlabel(xlabel,fontsize=12)\n",
    "            plt.title(f\"{title} sur l'axe {1+axis}\",fontsize=12)\n",
    "            plt.show()\n",
    "    except ValueError as f:\n",
    "        print(f)   \n",
    "# Cosinus carré axe 1\n",
    "plot_graph(data=rowcos2,axis=0,xlabel = 'Cosinus2',\n",
    "           title = 'Cosinus carré des modalités de V1',figsize=(10,8))\n",
    "\n",
    "# Cosinus carré axe 2\n",
    "plot_graph(data=rowcos2,axis=1,xlabel = 'Cosinus',\n",
    "           title = 'Cosinus carré des modalités de V1',figsize=(10,8))"
   ]
  },
  {
   "cell_type": "markdown",
   "id": "35f7a956",
   "metadata": {},
   "source": [
    "#### Contribution des points lignes"
   ]
  },
  {
   "cell_type": "code",
   "execution_count": 49,
   "id": "e268876e",
   "metadata": {},
   "outputs": [
    {
     "data": {
      "text/html": [
       "<div>\n",
       "<style scoped>\n",
       "    .dataframe tbody tr th:only-of-type {\n",
       "        vertical-align: middle;\n",
       "    }\n",
       "\n",
       "    .dataframe tbody tr th {\n",
       "        vertical-align: top;\n",
       "    }\n",
       "\n",
       "    .dataframe thead th {\n",
       "        text-align: right;\n",
       "    }\n",
       "</style>\n",
       "<table border=\"1\" class=\"dataframe\">\n",
       "  <thead>\n",
       "    <tr style=\"text-align: right;\">\n",
       "      <th>V1</th>\n",
       "      <th>2 conj. tr. également</th>\n",
       "      <th>trav. mari + absorbant</th>\n",
       "      <th>seul le mari trav.</th>\n",
       "    </tr>\n",
       "  </thead>\n",
       "  <tbody>\n",
       "    <tr>\n",
       "      <th>Dim.1</th>\n",
       "      <td>40.432</td>\n",
       "      <td>16.371</td>\n",
       "      <td>43.197</td>\n",
       "    </tr>\n",
       "    <tr>\n",
       "      <th>Dim.2</th>\n",
       "      <td>44.429</td>\n",
       "      <td>51.436</td>\n",
       "      <td>4.135</td>\n",
       "    </tr>\n",
       "  </tbody>\n",
       "</table>\n",
       "</div>"
      ],
      "text/plain": [
       "V1     2 conj. tr. également  trav. mari + absorbant  seul le mari trav.\n",
       "Dim.1                 40.432                  16.371              43.197\n",
       "Dim.2                 44.429                  51.436               4.135"
      ]
     },
     "metadata": {},
     "output_type": "display_data"
    }
   ],
   "source": [
    "# Contribution des modalités lignes\n",
    "contrib = rowcoord.apply(lambda x: 100*x**2*rowprob,axis=0)\n",
    "rowcontrib = contrib.apply(lambda x : x/eigenvalue, axis=1)\n",
    "display(rowcontrib.T.round(3))"
   ]
  },
  {
   "cell_type": "code",
   "execution_count": 50,
   "id": "72a9c71d",
   "metadata": {},
   "outputs": [
    {
     "data": {
      "image/png": "[encoded data removed]",
      "text/plain": [
       "<Figure size 720x576 with 1 Axes>"
      ]
     },
     "metadata": {
      "needs_background": "light"
     },
     "output_type": "display_data"
    },
    {
     "data": {
      "image/png": "[encoded data removed]",
      "text/plain": [
       "<Figure size 720x576 with 1 Axes>"
      ]
     },
     "metadata": {
      "needs_background": "light"
     },
     "output_type": "display_data"
    }
   ],
   "source": [
    "# Contribution axe 1\n",
    "plot_graph(data=rowcontrib,axis=0,xlabel = 'Contribution(%)',\n",
    "           title = 'Contributions des modalités de V1',figsize=(10,8))\n",
    "\n",
    "# Contribution axe 2\n",
    "plot_graph(data=rowcontrib,axis=1,xlabel = 'Contribution(%)',\n",
    "           title = 'Contributions des modalités de V1',figsize=(10,8))"
   ]
  },
  {
   "cell_type": "markdown",
   "id": "a0794328",
   "metadata": {},
   "source": [
    "### Analyse des points colonnes\n",
    "\n",
    "#### Cosinus carrés des points colonnes"
   ]
  },
  {
   "cell_type": "code",
   "execution_count": 51,
   "id": "cbee12a9",
   "metadata": {},
   "outputs": [
    {
     "data": {
      "text/html": [
       "<div>\n",
       "<style scoped>\n",
       "    .dataframe tbody tr th:only-of-type {\n",
       "        vertical-align: middle;\n",
       "    }\n",
       "\n",
       "    .dataframe tbody tr th {\n",
       "        vertical-align: top;\n",
       "    }\n",
       "\n",
       "    .dataframe thead th {\n",
       "        text-align: right;\n",
       "    }\n",
       "</style>\n",
       "<table border=\"1\" class=\"dataframe\">\n",
       "  <thead>\n",
       "    <tr style=\"text-align: right;\">\n",
       "      <th>V2</th>\n",
       "      <th>rester au foyer</th>\n",
       "      <th>trav. à mi-temps</th>\n",
       "      <th>trav. plein temps</th>\n",
       "    </tr>\n",
       "  </thead>\n",
       "  <tbody>\n",
       "    <tr>\n",
       "      <th>Dim.1</th>\n",
       "      <td>0.92</td>\n",
       "      <td>0.001</td>\n",
       "      <td>0.891</td>\n",
       "    </tr>\n",
       "    <tr>\n",
       "      <th>Dim.2</th>\n",
       "      <td>0.08</td>\n",
       "      <td>0.999</td>\n",
       "      <td>0.109</td>\n",
       "    </tr>\n",
       "  </tbody>\n",
       "</table>\n",
       "</div>"
      ],
      "text/plain": [
       "V2     rester au foyer  trav. à mi-temps  trav. plein temps\n",
       "Dim.1             0.92             0.001              0.891\n",
       "Dim.2             0.08             0.999              0.109"
      ]
     },
     "metadata": {},
     "output_type": "display_data"
    }
   ],
   "source": [
    "# Cosinus carrés des points colonnes\n",
    "colcos2 = colcoord.apply(lambda x:x**2/coldisto,axis = 0)\n",
    "display(colcos2.T.round(3))"
   ]
  },
  {
   "cell_type": "code",
   "execution_count": 52,
   "id": "cf5883fe",
   "metadata": {},
   "outputs": [
    {
     "data": {
      "image/png": "[encoded data removed]",
      "text/plain": [
       "<Figure size 720x576 with 1 Axes>"
      ]
     },
     "metadata": {
      "needs_background": "light"
     },
     "output_type": "display_data"
    },
    {
     "data": {
      "image/png": "[encoded data removed]",
      "text/plain": [
       "<Figure size 720x576 with 1 Axes>"
      ]
     },
     "metadata": {
      "needs_background": "light"
     },
     "output_type": "display_data"
    }
   ],
   "source": [
    "# Cosinus carré axe 1\n",
    "plot_graph(data=colcos2,axis=0,xlabel = 'Cosinus2',\n",
    "           title = 'Cosinus carré des modalités de V2',figsize=(10,8))\n",
    "\n",
    "# Cosinus carré axe 2\n",
    "plot_graph(data=colcos2,axis=1,xlabel = 'Cosinus',\n",
    "           title = 'Cosinus carré des modalités de V2',figsize=(10,8))"
   ]
  },
  {
   "cell_type": "markdown",
   "id": "0662b686",
   "metadata": {},
   "source": [
    "#### Contribution des modalités colonnes"
   ]
  },
  {
   "cell_type": "code",
   "execution_count": 53,
   "id": "7d83887c",
   "metadata": {},
   "outputs": [
    {
     "data": {
      "text/html": [
       "<div>\n",
       "<style scoped>\n",
       "    .dataframe tbody tr th:only-of-type {\n",
       "        vertical-align: middle;\n",
       "    }\n",
       "\n",
       "    .dataframe tbody tr th {\n",
       "        vertical-align: top;\n",
       "    }\n",
       "\n",
       "    .dataframe thead th {\n",
       "        text-align: right;\n",
       "    }\n",
       "</style>\n",
       "<table border=\"1\" class=\"dataframe\">\n",
       "  <thead>\n",
       "    <tr style=\"text-align: right;\">\n",
       "      <th>V2</th>\n",
       "      <th>rester au foyer</th>\n",
       "      <th>trav. à mi-temps</th>\n",
       "      <th>trav. plein temps</th>\n",
       "    </tr>\n",
       "  </thead>\n",
       "  <tbody>\n",
       "    <tr>\n",
       "      <th>Dim.1</th>\n",
       "      <td>53.913</td>\n",
       "      <td>0.007</td>\n",
       "      <td>46.079</td>\n",
       "    </tr>\n",
       "    <tr>\n",
       "      <th>Dim.2</th>\n",
       "      <td>29.613</td>\n",
       "      <td>34.853</td>\n",
       "      <td>35.533</td>\n",
       "    </tr>\n",
       "  </tbody>\n",
       "</table>\n",
       "</div>"
      ],
      "text/plain": [
       "V2     rester au foyer  trav. à mi-temps  trav. plein temps\n",
       "Dim.1           53.913             0.007             46.079\n",
       "Dim.2           29.613            34.853             35.533"
      ]
     },
     "metadata": {},
     "output_type": "display_data"
    }
   ],
   "source": [
    "# Contribution des modalités colonnes\n",
    "contrib2 = colcoord.apply(lambda x: 100*x**2*colprob,axis=0)\n",
    "colcontrib = contrib2.apply(lambda x : x/eigenvalue, axis=1)\n",
    "display(colcontrib.T.round(3))"
   ]
  },
  {
   "cell_type": "code",
   "execution_count": 54,
   "id": "8db4407f",
   "metadata": {},
   "outputs": [
    {
     "data": {
      "image/png": "[encoded data removed]",
      "text/plain": [
       "<Figure size 720x576 with 1 Axes>"
      ]
     },
     "metadata": {
      "needs_background": "light"
     },
     "output_type": "display_data"
    },
    {
     "data": {
      "image/png": "[encoded data removed]",
      "text/plain": [
       "<Figure size 720x576 with 1 Axes>"
      ]
     },
     "metadata": {
      "needs_background": "light"
     },
     "output_type": "display_data"
    }
   ],
   "source": [
    "# Contribution axe 1\n",
    "plot_graph(data=colcontrib,axis=0,xlabel = 'Contribution(%)',\n",
    "           title = 'Contributions des modalités de V2',figsize=(10,8))\n",
    "\n",
    "# Contribution axe 2\n",
    "plot_graph(data=colcontrib,axis=1,xlabel = 'Contribution(%)',\n",
    "           title = 'Contributions des modalités de V2',figsize=(10,8))"
   ]
  },
  {
   "cell_type": "markdown",
   "id": "985db916",
   "metadata": {},
   "source": [
    "### Indicateurs "
   ]
  },
  {
   "cell_type": "code",
   "execution_count": 55,
   "id": "d393f501",
   "metadata": {},
   "outputs": [
    {
     "name": "stdout",
     "output_type": "stream",
     "text": [
      "V de Cramer vaut 0.2602\n"
     ]
    }
   ],
   "source": [
    "# V de cramer\n",
    "Vcramer = np.sqrt(inertietot/fmax)\n",
    "print(\"V de Cramer vaut %.4f\" %(Vcramer))"
   ]
  },
  {
   "cell_type": "code",
   "execution_count": 56,
   "id": "539ba0d7",
   "metadata": {},
   "outputs": [
    {
     "data": {
      "text/html": [
       "<div>\n",
       "<style scoped>\n",
       "    .dataframe tbody tr th:only-of-type {\n",
       "        vertical-align: middle;\n",
       "    }\n",
       "\n",
       "    .dataframe tbody tr th {\n",
       "        vertical-align: top;\n",
       "    }\n",
       "\n",
       "    .dataframe thead th {\n",
       "        text-align: right;\n",
       "    }\n",
       "</style>\n",
       "<table border=\"1\" class=\"dataframe\">\n",
       "  <thead>\n",
       "    <tr style=\"text-align: right;\">\n",
       "      <th></th>\n",
       "      <th>phi-2</th>\n",
       "      <th>khi-2</th>\n",
       "      <th>p.value</th>\n",
       "      <th>VCramer</th>\n",
       "      <th>Tschuprow</th>\n",
       "    </tr>\n",
       "    <tr>\n",
       "      <th>Mesure</th>\n",
       "      <th></th>\n",
       "      <th></th>\n",
       "      <th></th>\n",
       "      <th></th>\n",
       "      <th></th>\n",
       "    </tr>\n",
       "  </thead>\n",
       "  <tbody>\n",
       "    <tr>\n",
       "      <th>valeur</th>\n",
       "      <td>0.1354</td>\n",
       "      <td>233.4304</td>\n",
       "      <td>0.0</td>\n",
       "      <td>0.2602</td>\n",
       "      <td>0.2602</td>\n",
       "    </tr>\n",
       "  </tbody>\n",
       "</table>\n",
       "</div>"
      ],
      "text/plain": [
       "         phi-2     khi-2  p.value  VCramer  Tschuprow\n",
       "Mesure                                               \n",
       "valeur  0.1354  233.4304      0.0   0.2602     0.2602"
      ]
     },
     "metadata": {},
     "output_type": "display_data"
    }
   ],
   "source": [
    "# indicateurs de liaison\n",
    "def VCramer(phi2,l,c):\n",
    "    return (phi2/min(l-1,c-1))**(0.5)\n",
    " \n",
    "def Tschuprow(phi2,l,c):\n",
    "    return np.sqrt(phi2/np.sqrt((l-1)*(c-1)))\n",
    " \n",
    "def mesure_liaison(data): \n",
    "    l,c = data.shape\n",
    "    N = data.sum().sum()\n",
    "    chi2, pvalue= stats.chi2_contingency(data)[0:2]\n",
    "    phi2 = chi2/N\n",
    "    V = VCramer(phi2,l,c)\n",
    "    T = Tschuprow(phi2,l,c)\n",
    "    df=pd.DataFrame({\"phi-2\":phi2,\"khi-2\":chi2,'p.value':pvalue,\n",
    "                     \"VCramer\":V,\"Tschuprow\":T},index=['valeur'])\n",
    "    df.index.name = 'Mesure'\n",
    "    return df\n",
    "indicateur = mesure_liaison(data=donnee)\n",
    "display(indicateur.round(4))"
   ]
  },
  {
   "cell_type": "code",
   "execution_count": 57,
   "id": "17eccbed",
   "metadata": {},
   "outputs": [
    {
     "data": {
      "text/html": [
       "<div>\n",
       "<style scoped>\n",
       "    .dataframe tbody tr th:only-of-type {\n",
       "        vertical-align: middle;\n",
       "    }\n",
       "\n",
       "    .dataframe tbody tr th {\n",
       "        vertical-align: top;\n",
       "    }\n",
       "\n",
       "    .dataframe thead th {\n",
       "        text-align: right;\n",
       "    }\n",
       "</style>\n",
       "<table border=\"1\" class=\"dataframe\">\n",
       "  <thead>\n",
       "    <tr style=\"text-align: right;\">\n",
       "      <th></th>\n",
       "      <th>F foyer coupées du monde tout à fait d accord</th>\n",
       "      <th>F foyer coupées du monde plutôt d accord</th>\n",
       "      <th>F foyer coupées du monde pas très d accord</th>\n",
       "      <th>F foyer coupées du monde pas du tout d accord</th>\n",
       "    </tr>\n",
       "  </thead>\n",
       "  <tbody>\n",
       "    <tr>\n",
       "      <th>2 conj. tr. également</th>\n",
       "      <td>107</td>\n",
       "      <td>75</td>\n",
       "      <td>40</td>\n",
       "      <td>39</td>\n",
       "    </tr>\n",
       "    <tr>\n",
       "      <th>trav. mari + absorbant</th>\n",
       "      <td>192</td>\n",
       "      <td>175</td>\n",
       "      <td>100</td>\n",
       "      <td>88</td>\n",
       "    </tr>\n",
       "    <tr>\n",
       "      <th>seul le mari trav.</th>\n",
       "      <td>140</td>\n",
       "      <td>215</td>\n",
       "      <td>254</td>\n",
       "      <td>299</td>\n",
       "    </tr>\n",
       "  </tbody>\n",
       "</table>\n",
       "</div>"
      ],
      "text/plain": [
       "                        F foyer coupées du monde tout à fait d accord  \\\n",
       "2 conj. tr. également                                             107   \n",
       "trav. mari + absorbant                                            192   \n",
       "seul le mari trav.                                                140   \n",
       "\n",
       "                        F foyer coupées du monde plutôt d accord  \\\n",
       "2 conj. tr. également                                         75   \n",
       "trav. mari + absorbant                                       175   \n",
       "seul le mari trav.                                           215   \n",
       "\n",
       "                        F foyer coupées du monde pas très d accord  \\\n",
       "2 conj. tr. également                                           40   \n",
       "trav. mari + absorbant                                         100   \n",
       "seul le mari trav.                                             254   \n",
       "\n",
       "                        F foyer coupées du monde pas du tout d accord  \n",
       "2 conj. tr. également                                              39  \n",
       "trav. mari + absorbant                                             88  \n",
       "seul le mari trav.                                                299  "
      ]
     },
     "metadata": {},
     "output_type": "display_data"
    }
   ],
   "source": [
    "# Colonnes supplémentaires\n",
    "donneesup = pd.read_csv('femme_travail.csv',delimiter=\";\",encoding =  \"cp1252\",\n",
    "                     index_col = 0,usecols=[0,4,5,6,7])\n",
    "display(donneesup)"
   ]
  },
  {
   "cell_type": "code",
   "execution_count": 58,
   "id": "dbf6430c",
   "metadata": {},
   "outputs": [
    {
     "data": {
      "text/html": [
       "<div>\n",
       "<style scoped>\n",
       "    .dataframe tbody tr th:only-of-type {\n",
       "        vertical-align: middle;\n",
       "    }\n",
       "\n",
       "    .dataframe tbody tr th {\n",
       "        vertical-align: top;\n",
       "    }\n",
       "\n",
       "    .dataframe thead th {\n",
       "        text-align: right;\n",
       "    }\n",
       "</style>\n",
       "<table border=\"1\" class=\"dataframe\">\n",
       "  <thead>\n",
       "    <tr style=\"text-align: right;\">\n",
       "      <th></th>\n",
       "      <th>phi-2</th>\n",
       "      <th>khi-2</th>\n",
       "      <th>p.value</th>\n",
       "      <th>VCramer</th>\n",
       "      <th>Tschuprow</th>\n",
       "    </tr>\n",
       "    <tr>\n",
       "      <th>Mesure</th>\n",
       "      <th></th>\n",
       "      <th></th>\n",
       "      <th></th>\n",
       "      <th></th>\n",
       "      <th></th>\n",
       "    </tr>\n",
       "  </thead>\n",
       "  <tbody>\n",
       "    <tr>\n",
       "      <th>valeur</th>\n",
       "      <td>0.0941</td>\n",
       "      <td>162.1882</td>\n",
       "      <td>0.0</td>\n",
       "      <td>0.2169</td>\n",
       "      <td>0.196</td>\n",
       "    </tr>\n",
       "  </tbody>\n",
       "</table>\n",
       "</div>"
      ],
      "text/plain": [
       "         phi-2     khi-2  p.value  VCramer  Tschuprow\n",
       "Mesure                                               \n",
       "valeur  0.0941  162.1882      0.0   0.2169      0.196"
      ]
     },
     "metadata": {},
     "output_type": "display_data"
    }
   ],
   "source": [
    "# Liaison V1 et V3\n",
    "liaisonV1_V3 = mesure_liaison(data=donneesup)\n",
    "display(liaisonV1_V3.round(4))"
   ]
  },
  {
   "cell_type": "code",
   "execution_count": 59,
   "id": "97996e85",
   "metadata": {},
   "outputs": [
    {
     "data": {
      "text/html": [
       "<div>\n",
       "<style scoped>\n",
       "    .dataframe tbody tr th:only-of-type {\n",
       "        vertical-align: middle;\n",
       "    }\n",
       "\n",
       "    .dataframe tbody tr th {\n",
       "        vertical-align: top;\n",
       "    }\n",
       "\n",
       "    .dataframe thead th {\n",
       "        text-align: right;\n",
       "    }\n",
       "</style>\n",
       "<table border=\"1\" class=\"dataframe\">\n",
       "  <thead>\n",
       "    <tr style=\"text-align: right;\">\n",
       "      <th></th>\n",
       "      <th>F foyer coupées du monde tout à fait d accord</th>\n",
       "      <th>F foyer coupées du monde plutôt d accord</th>\n",
       "      <th>F foyer coupées du monde pas très d accord</th>\n",
       "      <th>F foyer coupées du monde pas du tout d accord</th>\n",
       "    </tr>\n",
       "  </thead>\n",
       "  <tbody>\n",
       "    <tr>\n",
       "      <th>2 conj. tr. également</th>\n",
       "      <td>0.244</td>\n",
       "      <td>0.161</td>\n",
       "      <td>0.102</td>\n",
       "      <td>0.092</td>\n",
       "    </tr>\n",
       "    <tr>\n",
       "      <th>trav. mari + absorbant</th>\n",
       "      <td>0.437</td>\n",
       "      <td>0.376</td>\n",
       "      <td>0.254</td>\n",
       "      <td>0.207</td>\n",
       "    </tr>\n",
       "    <tr>\n",
       "      <th>seul le mari trav.</th>\n",
       "      <td>0.319</td>\n",
       "      <td>0.462</td>\n",
       "      <td>0.645</td>\n",
       "      <td>0.702</td>\n",
       "    </tr>\n",
       "  </tbody>\n",
       "</table>\n",
       "</div>"
      ],
      "text/plain": [
       "                        F foyer coupées du monde tout à fait d accord  \\\n",
       "2 conj. tr. également                                           0.244   \n",
       "trav. mari + absorbant                                          0.437   \n",
       "seul le mari trav.                                              0.319   \n",
       "\n",
       "                        F foyer coupées du monde plutôt d accord  \\\n",
       "2 conj. tr. également                                      0.161   \n",
       "trav. mari + absorbant                                     0.376   \n",
       "seul le mari trav.                                         0.462   \n",
       "\n",
       "                        F foyer coupées du monde pas très d accord  \\\n",
       "2 conj. tr. également                                        0.102   \n",
       "trav. mari + absorbant                                       0.254   \n",
       "seul le mari trav.                                           0.645   \n",
       "\n",
       "                        F foyer coupées du monde pas du tout d accord  \n",
       "2 conj. tr. également                                           0.092  \n",
       "trav. mari + absorbant                                          0.207  \n",
       "seul le mari trav.                                              0.702  "
      ]
     },
     "metadata": {},
     "output_type": "display_data"
    }
   ],
   "source": [
    "# profil colonne supplémentaire\n",
    "colsupprofil = donneesup.apply(lambda x:x/np.sum(x), axis=0)\n",
    "display(colsupprofil.round(3))"
   ]
  },
  {
   "cell_type": "code",
   "execution_count": 60,
   "id": "ffd5aa73",
   "metadata": {},
   "outputs": [
    {
     "data": {
      "text/html": [
       "<div>\n",
       "<style scoped>\n",
       "    .dataframe tbody tr th:only-of-type {\n",
       "        vertical-align: middle;\n",
       "    }\n",
       "\n",
       "    .dataframe tbody tr th {\n",
       "        vertical-align: top;\n",
       "    }\n",
       "\n",
       "    .dataframe thead th {\n",
       "        text-align: right;\n",
       "    }\n",
       "</style>\n",
       "<table border=\"1\" class=\"dataframe\">\n",
       "  <thead>\n",
       "    <tr style=\"text-align: right;\">\n",
       "      <th></th>\n",
       "      <th>Dim.1</th>\n",
       "      <th>Dim.2</th>\n",
       "    </tr>\n",
       "    <tr>\n",
       "      <th>V3</th>\n",
       "      <th></th>\n",
       "      <th></th>\n",
       "    </tr>\n",
       "  </thead>\n",
       "  <tbody>\n",
       "    <tr>\n",
       "      <th>F foyer coupées du monde tout à fait d accord</th>\n",
       "      <td>-0.421</td>\n",
       "      <td>-0.046</td>\n",
       "    </tr>\n",
       "    <tr>\n",
       "      <th>F foyer coupées du monde plutôt d accord</th>\n",
       "      <td>-0.113</td>\n",
       "      <td>-0.070</td>\n",
       "    </tr>\n",
       "    <tr>\n",
       "      <th>F foyer coupées du monde pas très d accord</th>\n",
       "      <td>0.237</td>\n",
       "      <td>0.034</td>\n",
       "    </tr>\n",
       "    <tr>\n",
       "      <th>F foyer coupées du monde pas du tout d accord</th>\n",
       "      <td>0.339</td>\n",
       "      <td>0.092</td>\n",
       "    </tr>\n",
       "  </tbody>\n",
       "</table>\n",
       "</div>"
      ],
      "text/plain": [
       "                                               Dim.1  Dim.2\n",
       "V3                                                         \n",
       "F foyer coupées du monde tout à fait d accord -0.421 -0.046\n",
       "F foyer coupées du monde plutôt d accord      -0.113 -0.070\n",
       "F foyer coupées du monde pas très d accord     0.237  0.034\n",
       "F foyer coupées du monde pas du tout d accord  0.339  0.092"
      ]
     },
     "metadata": {},
     "output_type": "display_data"
    }
   ],
   "source": [
    "# Coordonnées des colonnes supplémentaires\n",
    "colsupcoord = colsupprofil.T.dot(rowcoord)/np.sqrt(eigenvalue)\n",
    "colsupcoord.index.name='V3'\n",
    "display(colsupcoord.round(3))"
   ]
  },
  {
   "cell_type": "code",
   "execution_count": 61,
   "id": "a2590427",
   "metadata": {},
   "outputs": [
    {
     "data": {
      "image/png": "[encoded data removed]",
      "text/plain": [
       "<Figure size 864x576 with 3 Axes>"
      ]
     },
     "metadata": {
      "needs_background": "light"
     },
     "output_type": "display_data"
    }
   ],
   "source": [
    "# Nuage simultané\n",
    "def biplot2(data1,data2,data3,eigen,axei,axej,figsize=None):\n",
    "    # Représentation simultanée des indvidus et des variables\n",
    "    try:\n",
    "        if axei==axej:\n",
    "            raise ValueError('Erreur: axei doit être différent de axej.')\n",
    "        elif axei>axej:\n",
    "            raise ValueError('Erreur: axei doit être inférieur à axej.')\n",
    "        elif axei<0 or axej<0:\n",
    "            msg = 'Erreur: les valeurs des axes doivent être positives ou nulles.'\n",
    "            raise ValueError(msg)\n",
    "        else:\n",
    "            n = data1.shape[0];p=data2.shape[0];q = data3.shape[0]\n",
    "            # Valeurs propres\n",
    "            percent = np.array([100*x/sum(eigen) for x in eigen])\n",
    "            dimi = round(percent[axei],2); dimj = round(percent[axej],2)\n",
    "            \n",
    "            # Biplot\n",
    "            fig = plt.figure(figsize=(12,8))\n",
    "            axes1 = fig.add_subplot(111)\n",
    "            axes2 = axes1.twiny()\n",
    "            axes2 = axes2.twinx()\n",
    "            axes1.grid()\n",
    "            axes2.axis([-0.8,.8,-.6,0.6])\n",
    "            axes1.axis([-0.8,.8,-.6,0.6])\n",
    "            axes1.set_title(\"Biplot\")\n",
    "            axes1.set_xlabel(f\"Dim.{1+axei} ({dimi}%)\")\n",
    "            axes1.set_ylabel(f\"Dim.{1+axej} ({dimj}%)\")\n",
    "            # Affichage des individus\n",
    "            for i in range(n):\n",
    "                axes1.scatter(data1.iloc[i,axei],data1.iloc[i,axej],\n",
    "                              c = \"blue\",alpha = 1,marker=\"^\")\n",
    "                axes1.text(data1.iloc[i,axei]-0.10,data1.iloc[i,axej]+0.01,\n",
    "                           data1.index[i],color = \"blue\",fontsize=12)\n",
    "            # Affichage des variables\n",
    "            for k in range(p):\n",
    "                axes2.scatter(data2.iloc[k,axei],data2.iloc[k,axej],\n",
    "                              color='red',alpha=1,marker=\"s\")\n",
    "                axes2.text(data2.iloc[k,axei]-0.10,data2.iloc[k,axej]+0.01,\n",
    "                           data2.index[k],color = \"red\",fontsize=12)\n",
    "            for l in range(q):\n",
    "                axes2.scatter(data3.iloc[l,axei],data3.iloc[l,axej],\n",
    "                              color='black',alpha=1,marker=\"*\")\n",
    "                axes2.text(data3.iloc[l,axei]-0.10,data3.iloc[l,axej]+0.01,\n",
    "                           data3.index[l],color = \"black\",fontsize=12)\n",
    "            plt.axhline(0, color='blue',linestyle=\"--\", linewidth=0.5)\n",
    "            plt.axvline(0, color='blue',linestyle=\"--\", linewidth=0.5)\n",
    "            plt.show()\n",
    "            \n",
    "    except ValueError as e:\n",
    "            print(e)  \n",
    "\n",
    "# Affichage\n",
    "biplot2(data1=rowcoord,data2=colcoord,data3=colsupcoord,eigen=eigenvalue,\n",
    "        axei=0,axej=1,figsize=(10,10))"
   ]
  },
  {
   "cell_type": "code",
   "execution_count": 62,
   "id": "6e1aed73",
   "metadata": {},
   "outputs": [
    {
     "data": {
      "text/html": [
       "<div>\n",
       "<style scoped>\n",
       "    .dataframe tbody tr th:only-of-type {\n",
       "        vertical-align: middle;\n",
       "    }\n",
       "\n",
       "    .dataframe tbody tr th {\n",
       "        vertical-align: top;\n",
       "    }\n",
       "\n",
       "    .dataframe thead th {\n",
       "        text-align: right;\n",
       "    }\n",
       "</style>\n",
       "<table border=\"1\" class=\"dataframe\">\n",
       "  <thead>\n",
       "    <tr style=\"text-align: right;\">\n",
       "      <th></th>\n",
       "      <th>Disto2</th>\n",
       "      <th>poids</th>\n",
       "      <th>Inertie</th>\n",
       "      <th>Dim.1</th>\n",
       "      <th>Dim.2</th>\n",
       "      <th>Dim.1</th>\n",
       "      <th>Dim.2</th>\n",
       "      <th>Dim.1</th>\n",
       "      <th>Dim.2</th>\n",
       "    </tr>\n",
       "    <tr>\n",
       "      <th>V1</th>\n",
       "      <th></th>\n",
       "      <th></th>\n",
       "      <th></th>\n",
       "      <th></th>\n",
       "      <th></th>\n",
       "      <th></th>\n",
       "      <th></th>\n",
       "      <th></th>\n",
       "      <th></th>\n",
       "    </tr>\n",
       "  </thead>\n",
       "  <tbody>\n",
       "    <tr>\n",
       "      <th>2 conj. tr. également</th>\n",
       "      <td>0.367</td>\n",
       "      <td>0.151</td>\n",
       "      <td>0.055</td>\n",
       "      <td>-0.559</td>\n",
       "      <td>0.233</td>\n",
       "      <td>40.432</td>\n",
       "      <td>44.429</td>\n",
       "      <td>0.851</td>\n",
       "      <td>0.149</td>\n",
       "    </tr>\n",
       "    <tr>\n",
       "      <th>trav. mari + absorbant</th>\n",
       "      <td>0.089</td>\n",
       "      <td>0.322</td>\n",
       "      <td>0.029</td>\n",
       "      <td>-0.244</td>\n",
       "      <td>-0.172</td>\n",
       "      <td>16.371</td>\n",
       "      <td>51.436</td>\n",
       "      <td>0.667</td>\n",
       "      <td>0.333</td>\n",
       "    </tr>\n",
       "    <tr>\n",
       "      <th>seul le mari trav.</th>\n",
       "      <td>0.097</td>\n",
       "      <td>0.527</td>\n",
       "      <td>0.051</td>\n",
       "      <td>0.310</td>\n",
       "      <td>0.038</td>\n",
       "      <td>43.197</td>\n",
       "      <td>4.135</td>\n",
       "      <td>0.985</td>\n",
       "      <td>0.015</td>\n",
       "    </tr>\n",
       "  </tbody>\n",
       "</table>\n",
       "</div>"
      ],
      "text/plain": [
       "                        Disto2  poids  Inertie  Dim.1  Dim.2   Dim.1   Dim.2  \\\n",
       "V1                                                                             \n",
       "2 conj. tr. également    0.367  0.151    0.055 -0.559  0.233  40.432  44.429   \n",
       "trav. mari + absorbant   0.089  0.322    0.029 -0.244 -0.172  16.371  51.436   \n",
       "seul le mari trav.       0.097  0.527    0.051  0.310  0.038  43.197   4.135   \n",
       "\n",
       "                        Dim.1  Dim.2  \n",
       "V1                                    \n",
       "2 conj. tr. également   0.851  0.149  \n",
       "trav. mari + absorbant  0.667  0.333  \n",
       "seul le mari trav.      0.985  0.015  "
      ]
     },
     "metadata": {},
     "output_type": "display_data"
    }
   ],
   "source": [
    "display(pd.concat([rowinfos,rowcoord[['Dim.1','Dim.2']],rowcontrib[['Dim.1','Dim.2']],\n",
    "           rowcos2[['Dim.1','Dim.2']]],axis=1).round(3))"
   ]
  },
  {
   "cell_type": "code",
   "execution_count": 63,
   "id": "704558db",
   "metadata": {},
   "outputs": [
    {
     "data": {
      "text/html": [
       "<div>\n",
       "<style scoped>\n",
       "    .dataframe tbody tr th:only-of-type {\n",
       "        vertical-align: middle;\n",
       "    }\n",
       "\n",
       "    .dataframe tbody tr th {\n",
       "        vertical-align: top;\n",
       "    }\n",
       "\n",
       "    .dataframe thead th {\n",
       "        text-align: right;\n",
       "    }\n",
       "</style>\n",
       "<table border=\"1\" class=\"dataframe\">\n",
       "  <thead>\n",
       "    <tr style=\"text-align: right;\">\n",
       "      <th></th>\n",
       "      <th>Disto2</th>\n",
       "      <th>poids</th>\n",
       "      <th>Inertie</th>\n",
       "      <th>Dim.1</th>\n",
       "      <th>Dim.2</th>\n",
       "      <th>Dim.1</th>\n",
       "      <th>Dim.2</th>\n",
       "      <th>Dim.1</th>\n",
       "      <th>Dim.2</th>\n",
       "    </tr>\n",
       "    <tr>\n",
       "      <th>V2</th>\n",
       "      <th></th>\n",
       "      <th></th>\n",
       "      <th></th>\n",
       "      <th></th>\n",
       "      <th></th>\n",
       "      <th></th>\n",
       "      <th></th>\n",
       "      <th></th>\n",
       "      <th></th>\n",
       "    </tr>\n",
       "  </thead>\n",
       "  <tbody>\n",
       "    <tr>\n",
       "      <th>rester au foyer</th>\n",
       "      <td>0.416</td>\n",
       "      <td>0.165</td>\n",
       "      <td>0.068</td>\n",
       "      <td>0.618</td>\n",
       "      <td>0.183</td>\n",
       "      <td>53.913</td>\n",
       "      <td>29.613</td>\n",
       "      <td>0.920</td>\n",
       "      <td>0.080</td>\n",
       "    </tr>\n",
       "    <tr>\n",
       "      <th>trav. à mi-temps</th>\n",
       "      <td>0.010</td>\n",
       "      <td>0.651</td>\n",
       "      <td>0.006</td>\n",
       "      <td>-0.004</td>\n",
       "      <td>-0.100</td>\n",
       "      <td>0.007</td>\n",
       "      <td>34.853</td>\n",
       "      <td>0.001</td>\n",
       "      <td>0.999</td>\n",
       "    </tr>\n",
       "    <tr>\n",
       "      <th>trav. plein temps</th>\n",
       "      <td>0.329</td>\n",
       "      <td>0.184</td>\n",
       "      <td>0.060</td>\n",
       "      <td>-0.541</td>\n",
       "      <td>0.189</td>\n",
       "      <td>46.079</td>\n",
       "      <td>35.533</td>\n",
       "      <td>0.891</td>\n",
       "      <td>0.109</td>\n",
       "    </tr>\n",
       "  </tbody>\n",
       "</table>\n",
       "</div>"
      ],
      "text/plain": [
       "                   Disto2  poids  Inertie  Dim.1  Dim.2   Dim.1   Dim.2  \\\n",
       "V2                                                                        \n",
       "rester au foyer     0.416  0.165    0.068  0.618  0.183  53.913  29.613   \n",
       "trav. à mi-temps    0.010  0.651    0.006 -0.004 -0.100   0.007  34.853   \n",
       "trav. plein temps   0.329  0.184    0.060 -0.541  0.189  46.079  35.533   \n",
       "\n",
       "                   Dim.1  Dim.2  \n",
       "V2                               \n",
       "rester au foyer    0.920  0.080  \n",
       "trav. à mi-temps   0.001  0.999  \n",
       "trav. plein temps  0.891  0.109  "
      ]
     },
     "metadata": {},
     "output_type": "display_data"
    }
   ],
   "source": [
    "display(pd.concat([colinfos,colcoord[['Dim.1','Dim.2']],colcontrib[['Dim.1','Dim.2']],\n",
    "           colcos2[['Dim.1','Dim.2']]],axis=1).round(3))"
   ]
  }
 ],
 "metadata": {
  "kernelspec": {
   "display_name": "Python 3",
   "language": "python",
   "name": "python3"
  },
  "language_info": {
   "codemirror_mode": {
    "name": "ipython",
    "version": 3
   },
   "file_extension": ".py",
   "mimetype": "text/x-python",
   "name": "python",
   "nbconvert_exporter": "python",
   "pygments_lexer": "ipython3",
   "version": "3.8.8"
  }
 },
 "nbformat": 4,
 "nbformat_minor": 5
}
