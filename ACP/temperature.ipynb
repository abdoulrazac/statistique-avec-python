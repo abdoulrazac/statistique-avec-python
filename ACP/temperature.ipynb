{
 "cells": [
  {
   "cell_type": "markdown",
   "id": "2717d96a",
   "metadata": {},
   "source": [
    "# Analyse en Composantes Principales"
   ]
  },
  {
   "cell_type": "code",
   "execution_count": 1,
   "id": "94429797",
   "metadata": {},
   "outputs": [],
   "source": [
    "# chargement des données\n",
    "import pandas as pd\n",
    "\n",
    "donnee = pd.read_excel('temperature.xlsx',sheet_name=0,header=0,index_col=0)"
   ]
  },
  {
   "cell_type": "markdown",
   "id": "bd4457b3",
   "metadata": {},
   "source": [
    "#### Statistiques descriptives"
   ]
  },
  {
   "cell_type": "code",
   "execution_count": 2,
   "id": "98acef16",
   "metadata": {},
   "outputs": [
    {
     "data": {
      "text/html": [
       "<div>\n",
       "<style scoped>\n",
       "    .dataframe tbody tr th:only-of-type {\n",
       "        vertical-align: middle;\n",
       "    }\n",
       "\n",
       "    .dataframe tbody tr th {\n",
       "        vertical-align: top;\n",
       "    }\n",
       "\n",
       "    .dataframe thead th {\n",
       "        text-align: right;\n",
       "    }\n",
       "</style>\n",
       "<table border=\"1\" class=\"dataframe\">\n",
       "  <thead>\n",
       "    <tr style=\"text-align: right;\">\n",
       "      <th></th>\n",
       "      <th>Jan</th>\n",
       "      <th>Fev</th>\n",
       "      <th>Mars</th>\n",
       "      <th>Avril</th>\n",
       "      <th>Mai</th>\n",
       "      <th>Juin</th>\n",
       "      <th>Juil</th>\n",
       "      <th>Août</th>\n",
       "      <th>Sept</th>\n",
       "      <th>Oct</th>\n",
       "      <th>Nov</th>\n",
       "      <th>Dec</th>\n",
       "    </tr>\n",
       "  </thead>\n",
       "  <tbody>\n",
       "    <tr>\n",
       "      <th>count</th>\n",
       "      <td>15.00</td>\n",
       "      <td>15.00</td>\n",
       "      <td>15.00</td>\n",
       "      <td>15.00</td>\n",
       "      <td>15.00</td>\n",
       "      <td>15.00</td>\n",
       "      <td>15.00</td>\n",
       "      <td>15.00</td>\n",
       "      <td>15.00</td>\n",
       "      <td>15.00</td>\n",
       "      <td>15.00</td>\n",
       "      <td>15.00</td>\n",
       "    </tr>\n",
       "    <tr>\n",
       "      <th>mean</th>\n",
       "      <td>3.97</td>\n",
       "      <td>4.83</td>\n",
       "      <td>8.23</td>\n",
       "      <td>10.98</td>\n",
       "      <td>14.43</td>\n",
       "      <td>17.83</td>\n",
       "      <td>19.83</td>\n",
       "      <td>19.57</td>\n",
       "      <td>16.99</td>\n",
       "      <td>12.32</td>\n",
       "      <td>7.93</td>\n",
       "      <td>4.85</td>\n",
       "    </tr>\n",
       "    <tr>\n",
       "      <th>std</th>\n",
       "      <td>2.01</td>\n",
       "      <td>1.87</td>\n",
       "      <td>1.53</td>\n",
       "      <td>1.41</td>\n",
       "      <td>1.50</td>\n",
       "      <td>1.79</td>\n",
       "      <td>2.13</td>\n",
       "      <td>2.01</td>\n",
       "      <td>1.85</td>\n",
       "      <td>1.83</td>\n",
       "      <td>1.80</td>\n",
       "      <td>1.96</td>\n",
       "    </tr>\n",
       "    <tr>\n",
       "      <th>min</th>\n",
       "      <td>0.40</td>\n",
       "      <td>1.50</td>\n",
       "      <td>5.60</td>\n",
       "      <td>8.90</td>\n",
       "      <td>11.60</td>\n",
       "      <td>14.40</td>\n",
       "      <td>15.60</td>\n",
       "      <td>16.00</td>\n",
       "      <td>14.70</td>\n",
       "      <td>9.50</td>\n",
       "      <td>4.90</td>\n",
       "      <td>1.30</td>\n",
       "    </tr>\n",
       "    <tr>\n",
       "      <th>25%</th>\n",
       "      <td>2.40</td>\n",
       "      <td>3.35</td>\n",
       "      <td>7.55</td>\n",
       "      <td>10.00</td>\n",
       "      <td>13.70</td>\n",
       "      <td>17.15</td>\n",
       "      <td>18.90</td>\n",
       "      <td>18.45</td>\n",
       "      <td>15.85</td>\n",
       "      <td>11.30</td>\n",
       "      <td>6.60</td>\n",
       "      <td>3.45</td>\n",
       "    </tr>\n",
       "    <tr>\n",
       "      <th>50%</th>\n",
       "      <td>4.70</td>\n",
       "      <td>5.30</td>\n",
       "      <td>7.80</td>\n",
       "      <td>10.70</td>\n",
       "      <td>14.30</td>\n",
       "      <td>17.50</td>\n",
       "      <td>19.40</td>\n",
       "      <td>19.10</td>\n",
       "      <td>16.40</td>\n",
       "      <td>11.60</td>\n",
       "      <td>7.80</td>\n",
       "      <td>5.40</td>\n",
       "    </tr>\n",
       "    <tr>\n",
       "      <th>75%</th>\n",
       "      <td>5.55</td>\n",
       "      <td>6.20</td>\n",
       "      <td>9.55</td>\n",
       "      <td>12.20</td>\n",
       "      <td>15.35</td>\n",
       "      <td>19.00</td>\n",
       "      <td>20.90</td>\n",
       "      <td>20.95</td>\n",
       "      <td>18.45</td>\n",
       "      <td>13.55</td>\n",
       "      <td>9.05</td>\n",
       "      <td>6.35</td>\n",
       "    </tr>\n",
       "    <tr>\n",
       "      <th>max</th>\n",
       "      <td>7.50</td>\n",
       "      <td>8.50</td>\n",
       "      <td>10.80</td>\n",
       "      <td>13.30</td>\n",
       "      <td>16.80</td>\n",
       "      <td>20.80</td>\n",
       "      <td>23.30</td>\n",
       "      <td>22.80</td>\n",
       "      <td>20.30</td>\n",
       "      <td>16.00</td>\n",
       "      <td>11.50</td>\n",
       "      <td>8.20</td>\n",
       "    </tr>\n",
       "  </tbody>\n",
       "</table>\n",
       "</div>"
      ],
      "text/plain": [
       "         Jan    Fev   Mars  Avril    Mai   Juin   Juil   Août   Sept    Oct  \\\n",
       "count  15.00  15.00  15.00  15.00  15.00  15.00  15.00  15.00  15.00  15.00   \n",
       "mean    3.97   4.83   8.23  10.98  14.43  17.83  19.83  19.57  16.99  12.32   \n",
       "std     2.01   1.87   1.53   1.41   1.50   1.79   2.13   2.01   1.85   1.83   \n",
       "min     0.40   1.50   5.60   8.90  11.60  14.40  15.60  16.00  14.70   9.50   \n",
       "25%     2.40   3.35   7.55  10.00  13.70  17.15  18.90  18.45  15.85  11.30   \n",
       "50%     4.70   5.30   7.80  10.70  14.30  17.50  19.40  19.10  16.40  11.60   \n",
       "75%     5.55   6.20   9.55  12.20  15.35  19.00  20.90  20.95  18.45  13.55   \n",
       "max     7.50   8.50  10.80  13.30  16.80  20.80  23.30  22.80  20.30  16.00   \n",
       "\n",
       "         Nov    Dec  \n",
       "count  15.00  15.00  \n",
       "mean    7.93   4.85  \n",
       "std     1.80   1.96  \n",
       "min     4.90   1.30  \n",
       "25%     6.60   3.45  \n",
       "50%     7.80   5.40  \n",
       "75%     9.05   6.35  \n",
       "max    11.50   8.20  "
      ]
     },
     "metadata": {},
     "output_type": "display_data"
    }
   ],
   "source": [
    "# Statistiques sur les variables\n",
    "display(donnee.describe(include = \"all\").round(2))"
   ]
  },
  {
   "cell_type": "code",
   "execution_count": 3,
   "id": "8eb5b5e4",
   "metadata": {},
   "outputs": [
    {
     "name": "stdout",
     "output_type": "stream",
     "text": [
      "n = 15 et p = 12\n"
     ]
    }
   ],
   "source": [
    "# Dimension des données actives\n",
    "n = donnee.shape[0]  # nombre de lignes\n",
    "p = donnee.shape[1]  # nombre de colonnes\n",
    "print(f'n = {n} et p = {p}')"
   ]
  },
  {
   "cell_type": "code",
   "execution_count": null,
   "id": "646c2436",
   "metadata": {},
   "outputs": [],
   "source": [
    "# pairplot\n",
    "import seaborn as sns\n",
    "\n",
    "sns.pairplot(donnee,aspect=1)"
   ]
  },
  {
   "cell_type": "markdown",
   "id": "d38e05da",
   "metadata": {},
   "source": [
    "#### Notion de distance entre individus\n",
    "\n",
    "$$\\text{d}^2(i,l) = \\displaystyle \\sum_{k=1}^{K}(x_{ik}-x_{lk})^2$$"
   ]
  },
  {
   "cell_type": "code",
   "execution_count": null,
   "id": "affb216f",
   "metadata": {},
   "outputs": [],
   "source": [
    "# Distance entre villes\n",
    "import numpy as np\n",
    "\n",
    "def distance(x,y):\n",
    "    return np.sum((x-y)**2)\n",
    "\n",
    "#   Calcul de la distance\n",
    "rowdist = pd.DataFrame(np.zeros(shape=(n,n),dtype=float),index = donnee.index,\n",
    "                       columns = donnee.index)\n",
    "\n",
    "for i in range(n):\n",
    "    for j in range(i+1,n):\n",
    "        rowdist.values[i,j] = distance(donnee.values[i,:],donnee.values[j,:])\n",
    "\n",
    "# Affichage\n",
    "display(rowdist.round(1))"
   ]
  },
  {
   "cell_type": "code",
   "execution_count": null,
   "id": "e2403b61",
   "metadata": {},
   "outputs": [],
   "source": [
    "# Affichage\n",
    "display(rowdist.round(1))"
   ]
  },
  {
   "cell_type": "code",
   "execution_count": null,
   "id": "b8801e59",
   "metadata": {},
   "outputs": [],
   "source": [
    "# Visualisation - heatmap\n",
    "import matplotlib.pyplot as plt\n",
    "import seaborn as sns\n",
    "\n",
    "plt.figure(figsize = (10,8))\n",
    "sns.heatmap(rowdist,xticklabels=rowdist.columns,yticklabels = rowdist.columns,\n",
    "            cmap = sns.color_palette(\"Blues\",12),linewidths=0.5)\n",
    "plt.title('Heatmap des distances entre villes')\n",
    "plt.show()"
   ]
  },
  {
   "cell_type": "markdown",
   "id": "1d341425",
   "metadata": {},
   "source": [
    "#### Matrice des corrélations"
   ]
  },
  {
   "cell_type": "code",
   "execution_count": null,
   "id": "5d2c3005",
   "metadata": {},
   "outputs": [],
   "source": [
    "# Matrice de corrélation linéaire entre paires de variables\n",
    "corr = donnee.corr(method = \"pearson\")\n",
    "# Affichage\n",
    "display(corr.round(2))"
   ]
  },
  {
   "cell_type": "code",
   "execution_count": null,
   "id": "1bc52a94",
   "metadata": {},
   "outputs": [],
   "source": [
    "# heatmap de la matrice des corrélation\n",
    "import matplotlib.pyplot as plt\n",
    "import seaborn as sns\n",
    "\n",
    "plt.figure(figsize = (10,8))\n",
    "sns.heatmap(corr,xticklabels=corr.columns,yticklabels = corr.columns,\n",
    "            vmin = -1, vmax = +1, center = 0,\n",
    "            cmap = 'RdBu',linewidths=0.5)\n",
    "plt.title('Heatmap des corrélations croisées entre variables')\n",
    "plt.show()"
   ]
  },
  {
   "cell_type": "markdown",
   "id": "d1ba0e30",
   "metadata": {},
   "source": [
    "#### Centrage des données"
   ]
  },
  {
   "cell_type": "code",
   "execution_count": null,
   "id": "a11770f0",
   "metadata": {},
   "outputs": [],
   "source": [
    "# Centrage des données\n",
    "def centrage(x):\n",
    "    # x est un vecteur\n",
    "    return (x-x.mean())\n",
    "\n",
    "# Application\n",
    "Y = donnee.transform(centrage)\n",
    "# Affichage\n",
    "display(Y.round(2))"
   ]
  },
  {
   "cell_type": "markdown",
   "id": "bafac4cb",
   "metadata": {},
   "source": [
    "#### Centrage et réduction des données"
   ]
  },
  {
   "cell_type": "code",
   "execution_count": null,
   "id": "941c21fa",
   "metadata": {},
   "outputs": [],
   "source": [
    "# Centrage et réduction des données\n",
    "def StandardScaler(x):\n",
    "    # x est vecteur\n",
    "    return (x - x.mean())/x.std(ddof=0)\n",
    "\n",
    "# Application\n",
    "Z = donnee.transform(StandardScaler)\n",
    "#Affichage\n",
    "display(Z.round(2))"
   ]
  },
  {
   "cell_type": "code",
   "execution_count": null,
   "id": "2df160a8",
   "metadata": {},
   "outputs": [],
   "source": [
    "Z.corr(method = \"pearson\").round(2)"
   ]
  },
  {
   "cell_type": "markdown",
   "id": "ed886bc9",
   "metadata": {},
   "source": [
    "#### Distance euclidienne pondérée"
   ]
  },
  {
   "cell_type": "code",
   "execution_count": null,
   "id": "ddfeecd7",
   "metadata": {},
   "outputs": [],
   "source": [
    "# Calcul de la distance euclidienne pondérée\n",
    "dist = pd.DataFrame(np.zeros(shape=(n,n),dtype=float),index = donnee.index,\n",
    "                    columns = donnee.index)\n",
    "for i in range(n):\n",
    "    for j in range(i+1,n):\n",
    "        dist.values[i,j] = distance(Z.values[i,:],Z.values[j,:])\n",
    "\n",
    "# Visualisation - heatmap\n",
    "plt.figure(figsize = (10,8))\n",
    "sns.heatmap(dist,xticklabels=dist.columns,yticklabels = dist.columns,\n",
    "            cmap = sns.color_palette(\"Blues\",12),linewidths=0.5)\n",
    "plt.title('Heatmap des distances entre villes')\n",
    "plt.show()"
   ]
  },
  {
   "cell_type": "markdown",
   "id": "7bc8dab9",
   "metadata": {},
   "source": [
    "#### Notion d'inertie"
   ]
  },
  {
   "cell_type": "code",
   "execution_count": null,
   "id": "3d1425dc",
   "metadata": {},
   "outputs": [],
   "source": [
    "# Inertie : moyenne des carrés des distances\n",
    "InK = (1/n**2)*rowdist.sum().sum()\n",
    "print('Inertie totale : %.2f'%(InK))"
   ]
  },
  {
   "cell_type": "code",
   "execution_count": null,
   "id": "cb843513",
   "metadata": {},
   "outputs": [],
   "source": [
    "# Moyennes des variables\n",
    "meanvar = donnee.mean(axis=0)\n",
    "\n",
    "# Inertie totale\n",
    "distorig = donnee.apply(lambda x:np.sum((x-meanvar)**2), axis = 1)\n",
    "InK2 = (1/n)*distorig.sum()\n",
    "print('Inertie totale : %.2f'%(InK2))"
   ]
  },
  {
   "cell_type": "code",
   "execution_count": null,
   "id": "34ede4e7",
   "metadata": {},
   "outputs": [],
   "source": [
    "# Vérification - variance des variables\n",
    "variancevar = donnee.var(ddof = 0)\n",
    "\n",
    "# Inertie totale\n",
    "InK3 = variancevar.sum()\n",
    "print('Inertie totale : %.2f'%(InK3))"
   ]
  },
  {
   "cell_type": "code",
   "execution_count": null,
   "id": "0cfd8671",
   "metadata": {},
   "outputs": [],
   "source": [
    "# Inertie sur données centrées et réduites\n",
    "print('Inertie totale (donnée centrée réduite) : %.1f'%(Z.var(ddof=0).sum()))"
   ]
  },
  {
   "cell_type": "markdown",
   "id": "ec7e79eb",
   "metadata": {},
   "source": [
    "#### Distance des individus à l'origine"
   ]
  },
  {
   "cell_type": "code",
   "execution_count": null,
   "id": "8ca50fed",
   "metadata": {},
   "outputs": [],
   "source": [
    "# Information sur les individus\n",
    "rowdisto = Z.apply(lambda x : np.sum((x)**2),axis=1)\n",
    "rowweight = np.ones(n)/n\n",
    "rowinertie = rowweight*rowdisto.values\n",
    "rowinfos = pd.DataFrame(np.transpose([rowdisto,rowweight, rowinertie]),\n",
    "                       columns = [\"Disto2\", \"Poids\", \"Inertie\"],\n",
    "                       index = donnee.index)\n",
    "display(rowinfos.round(3))"
   ]
  },
  {
   "cell_type": "code",
   "execution_count": null,
   "id": "557bf309",
   "metadata": {},
   "outputs": [],
   "source": [
    "# Informations sur les variables\n",
    "rowmean = Z.mean(axis=1)\n",
    "vardisto = Z.apply(lambda x : np.sum((x-rowmean)**2)/n,axis=0)\n",
    "varweight = np.ones(p)/p\n",
    "varinertie = varweight*vardisto.values\n",
    "varinfos = pd.DataFrame(np.transpose([vardisto,varweight, varinertie]),\n",
    "                       columns = [\"Disto2\", \"Poids\", \"Inertie\"],\n",
    "                       index = donnee.columns)\n",
    "display(varinfos)"
   ]
  },
  {
   "cell_type": "code",
   "execution_count": null,
   "id": "cc2a89dc",
   "metadata": {},
   "outputs": [],
   "source": [
    "np.sum(varinertie)"
   ]
  },
  {
   "cell_type": "markdown",
   "id": "b6796809",
   "metadata": {},
   "source": [
    "### ACP via la diagonalisation de la matrice des corrélations"
   ]
  },
  {
   "cell_type": "code",
   "execution_count": null,
   "id": "bec430ad",
   "metadata": {},
   "outputs": [],
   "source": [
    "# Diagonalisation de la matrice des corrélations\n",
    "eigenvalue, eigenvector = np.linalg.eig(corr)"
   ]
  },
  {
   "cell_type": "code",
   "execution_count": null,
   "id": "7b0cc528",
   "metadata": {},
   "outputs": [],
   "source": [
    "# eigenvalue dataframe\n",
    "percent = np.array([100*x/sum(eigenvalue) for x in eigenvalue])\n",
    "cumpercent = np.cumsum(percent)\n",
    "columns = ['valeur propre','pourcentage d\\'inertie',\n",
    "           'pourcentage d\\'inertie cumulée']\n",
    "index = ['Dim.{}'.format(x+1) for x in range(p)]\n",
    "Eigen = pd.DataFrame(np.transpose([eigenvalue,percent,cumpercent]),\n",
    "                     index=index,columns = columns)\n",
    "Eigen.index.name = 'Dimension'\n",
    "# Affichage\n",
    "display(Eigen.round(2))"
   ]
  },
  {
   "cell_type": "markdown",
   "id": "2d32ff3a",
   "metadata": {},
   "source": [
    "### ACP via la décomposition en valeurs singulières\n",
    "\n",
    "Rappellons que la SVD (singular Values Decomposition) ou décomposition en valeurs singulières d'une matrix $X$ de taille $n\\times p$ consiste à calculer les valeurs singulières $\\lambda = \\left(\\lambda_{1},\\dots,\\lambda_{p}\\right)$ (triées par ordre décroissant) et les matrices unitaires $U = \\left[\\mu_{1},\\dots,\\mu_{n}\\right]$ et $V = \\left[\\nu_{1},\\dots,\\nu_{p}\\right]$ tels que $$X = \\displaystyle \\sum_{k}^{p}\\lambda_{k}\\mu_{k}\\nu_{k}^{T}=U\\text{diag}(\\lambda)V^{T}$$\n",
    "\n",
    "Les colonnes $\\nu_{k}$ de $\\textbf{V}$ sont $\\textbf{les axes principaux}$ et les vecteurs $\\lambda_{k}\\mu_{k}$ sont les $\\textbf{composantes principales}$.\n",
    "\n",
    "En python, c'est la fonction $\\textbf{np.linalg.svd}$ qui effectue la SVD d'une amtrice. Elle renvoie les valeurs singulières $\\lambda$ et les matrices unitaires $\\textbf{U}$ et $\\textbf{V}$.\n",
    "\n",
    "Pour l'ACP, nous effectuons la SVD du tableau des données centrées."
   ]
  },
  {
   "cell_type": "code",
   "execution_count": null,
   "id": "a3246223",
   "metadata": {},
   "outputs": [],
   "source": [
    "# Décomposition en valeurs singulières\n",
    "U, delta ,V  = np.linalg.svd(Z,full_matrices=False)"
   ]
  },
  {
   "cell_type": "code",
   "execution_count": null,
   "id": "9a338dcb",
   "metadata": {},
   "outputs": [],
   "source": [
    "# Correction des delta\n",
    "lambd = delta**2/n\n",
    "# Affichage de delta et lambda\n",
    "display(pd.DataFrame(np.array([delta,lambd]),columns = index,\n",
    "                   index=['delta','lambda']).round(2))"
   ]
  },
  {
   "cell_type": "markdown",
   "id": "4a21c05c",
   "metadata": {},
   "source": [
    "#### Valeurs propres"
   ]
  },
  {
   "cell_type": "code",
   "execution_count": null,
   "id": "cdd37111",
   "metadata": {},
   "outputs": [],
   "source": [
    "# Visualisation des valeurs propres\n",
    "def screeplot(data,choice=None,figsize=None):\n",
    "    #\n",
    "    p = data.shape[0]\n",
    "    fig,axes = plt.subplots(figsize = figsize); axes.grid()\n",
    "    axes.set_xlabel('Dimensions',fontsize=14)\n",
    "    axes.set_title('Scree plot',fontsize=14)\n",
    "    axes.set_xticks([x for x in range(1,p+1)])\n",
    "    if choice is None or choice=='scree plot':\n",
    "        eigen = data.iloc[:,0].round(2)\n",
    "        ylim = np.max(eigen)+1\n",
    "        axes.set_ylim(0,ylim)\n",
    "        axes.bar(np.arange(1,p+1),eigen.values,width=0.9)\n",
    "        axes.plot(np.arange(1,p+1),eigen.values,c=\"black\")\n",
    "        axes.set_ylabel('Eigenvalue',fontsize=13)\n",
    "        ## Add text\n",
    "        for i in range(p):\n",
    "            axes.scatter(i+1,eigen.values[i],color='black',alpha=1)\n",
    "            axes.text(i+.75,0.10+eigen.values[i],str(eigen.values[i]),\n",
    "                     color = 'black')\n",
    "    elif choice == \"percentage\":\n",
    "        percent = data.iloc[:,1].round()\n",
    "        axes.set_ylim(0,100)\n",
    "        axes.bar(np.arange(1,p+1),percent.values,width=0.9)\n",
    "        axes.plot(np.arange(1,p+1),percent.values,c=\"black\")\n",
    "        axes.set_ylabel('Percentage of variance',fontsize=13)\n",
    "        ## Add text\n",
    "        for i in range(p):\n",
    "            axes.scatter(i+1,percent.values[i],color='black',alpha=1)\n",
    "            axes.text(i+.6,0.10+percent.values[i],f'{percent.values[i]}%',\n",
    "                     color = 'black',fontweight='bold',fontsize=12)\n",
    "    elif choice == \"cumulative\":\n",
    "        cumul = data.iloc[:,2].round()\n",
    "        axes.set_ylim(0,105)\n",
    "        axes.bar(np.arange(1,p+1),cumul.values,width=0.9)\n",
    "        axes.set_ylabel('Cumulative percentage of variance',fontsize=13)\n",
    "    plt.show()\n",
    "# Affichage\n",
    "screeplot(data=Eigen,figsize=(8,6))"
   ]
  },
  {
   "cell_type": "markdown",
   "id": "4203596b",
   "metadata": {},
   "source": [
    "#### Coordonnées des individus"
   ]
  },
  {
   "cell_type": "code",
   "execution_count": null,
   "id": "8f1c123c",
   "metadata": {},
   "outputs": [],
   "source": [
    "# coordonnées factorielles des individus\n",
    "rowcoord = pd.DataFrame(np.dot(Z,eigenvector),index = donnee.index,\n",
    "                       columns = index)\n",
    "# Affichage\n",
    "display(rowcoord.loc[:,['Dim.1','Dim.2']].T.round(2))"
   ]
  },
  {
   "cell_type": "code",
   "execution_count": null,
   "id": "59cfa524",
   "metadata": {},
   "outputs": [],
   "source": [
    "# Fonction de visualisation en 2D\n",
    "def pca_row_plot(data,eigen,axei,axej,figsize=None):\n",
    "    try:\n",
    "        if axei==axej:\n",
    "            raise ValueError('Erreur: axei doit être différent de axej.')\n",
    "        elif axei>axej:\n",
    "            raise ValueError('Erreur: axei doit être inférieur à axej.')\n",
    "        elif axei<0 or axej<0:\n",
    "            msg = 'Erreur: les valeurs des axes doivent être positives ou nulles.'\n",
    "            raise ValueError(msg)\n",
    "        else:\n",
    "            # set limite\n",
    "            n = data.shape[0]\n",
    "            # Valeurs propres\n",
    "            percent = np.array([100*x/sum(eigen) for x in eigen])\n",
    "            dimi = round(percent[axei],2); dimj = round(percent[axej],2)\n",
    "\n",
    "            # Graphique\n",
    "            fig, axes = plt.subplots(figsize = figsize); axes.grid()\n",
    "            axes.axis([-8,8,-6,6])\n",
    "            axes.set_title(\"Projection des individus\")\n",
    "            axes.set_xlabel(f\"Dim.{1+axei} ({dimi}%)\")\n",
    "            axes.set_ylabel(f\"Dim.{1+axej} ({dimj}%)\")\n",
    "            for i in range(n):\n",
    "                plt.scatter(data.iloc[i,axei], data.iloc[i,axej],\n",
    "                            c = \"black\", alpha = 1)\n",
    "                axes.text(data.iloc[i,axei],data.iloc[i,axej],data.index[i],\n",
    "                          color = \"black\", fontsize = 11)\n",
    "            plt.axhline(0, color='blue',linestyle=\"--\", linewidth=0.5)\n",
    "            plt.axvline(0, color='blue',linestyle=\"--\", linewidth=0.5)\n",
    "            plt.show()\n",
    "            \n",
    "    # if false then raise the value error\n",
    "    except ValueError as e:\n",
    "            print(e) \n",
    "\n",
    "# Nuage des individus sur les axes 1 et 2\n",
    "pca_row_plot(data=rowcoord,\n",
    "             eigen=eigenvalue,\n",
    "             axei=0,\n",
    "             axej=1,\n",
    "             figsize=(12,8))"
   ]
  },
  {
   "cell_type": "markdown",
   "id": "a2179c37",
   "metadata": {},
   "source": [
    "#### Distance entre variables"
   ]
  },
  {
   "cell_type": "code",
   "execution_count": null,
   "id": "f7a507f7",
   "metadata": {},
   "outputs": [],
   "source": [
    "# Distance en variables\n",
    "vardist = pd.DataFrame(np.zeros(shape=(p,p),dtype=float),index = donnee.columns,\n",
    "                       columns = donnee.columns)\n",
    "for j in range(p):\n",
    "    for k in range(j+1,p):\n",
    "        vardist.iloc[j,k] = 2*(1-corr.iloc[j,k])\n",
    "# Visualisation - heatmap\n",
    "plt.figure(figsize = (10,8))\n",
    "sns.heatmap(vardist,xticklabels=dist.columns,yticklabels = dist.columns,\n",
    "            vmin = 0, vmax = 4,cmap = sns.color_palette(\"Blues\",12),linewidths=0.5)\n",
    "plt.title('Heatmap des distances entre mois')\n",
    "plt.show()"
   ]
  },
  {
   "cell_type": "markdown",
   "id": "79cc55d7",
   "metadata": {},
   "source": [
    "#### Coordonnées des variables"
   ]
  },
  {
   "cell_type": "code",
   "execution_count": null,
   "id": "b4fb5ca2",
   "metadata": {},
   "outputs": [],
   "source": [
    "# coordonnées des variables\n",
    "varcoord = pd.DataFrame(eigenvector*np.sqrt(eigenvalue),columns = index,\n",
    "                       index = donnee.columns)\n",
    "varcoord.index.name = 'mois'\n",
    "# Affichage\n",
    "display(varcoord.loc[:,['Dim.1','Dim.2']].T.round(2))"
   ]
  },
  {
   "cell_type": "code",
   "execution_count": null,
   "id": "95a99006",
   "metadata": {},
   "outputs": [],
   "source": [
    "# Visualisation du nuage des variables (=Cercle de corrélation)\n",
    "def pca_var_plot(data,eigen,axei,axej,figsize=None):\n",
    "    try:\n",
    "        if axei==axej:\n",
    "            raise ValueError('Erreur: axei doit être différent de axej.')\n",
    "        elif axei>axej:\n",
    "            raise ValueError('Erreur: axei doit être inférieur à axej.')\n",
    "        elif axei<0 or axej<0:\n",
    "            msg = 'Erreur: les valeurs des axes doivent être positives ou nulles.'\n",
    "            raise ValueError(msg)\n",
    "        else:\n",
    "            p = data.shape[0]\n",
    "            # Valeurs propres\n",
    "            percent = np.array([100*x/sum(eigen) for x in eigen])\n",
    "            dimi = round(percent[axei],2); dimj = round(percent[axej],2)\n",
    "            \n",
    "            # Graphique\n",
    "            fig, axes = plt.subplots(figsize = figsize)\n",
    "            axes.grid()\n",
    "            axes.axis([-1.5,1.5,-1.5,1.5])\n",
    "            axes.set_title(\"Cercle de corrélation\")\n",
    "            axes.set_xlabel(f\"Dim.{1+axei} ({dimi}%)\")\n",
    "            axes.set_ylabel(f\"Dim.{1+axej} ({dimj}%)\")\n",
    "            for j in range(p):\n",
    "                axes.arrow(0,0,data.iloc[j,axei],data.iloc[j,axej],\n",
    "                           head_width = 0.02,head_length = 0.02,color='black')\n",
    "                axes.text(data.iloc[j,axei],data.iloc[j,axej],data.index[j],\n",
    "                          color = \"black\")\n",
    "            # cercle\n",
    "            from matplotlib.patches import Ellipse\n",
    "            ellipse = Ellipse((0,0),width = 2, height = 2,facecolor = \"none\", \n",
    "                              edgecolor = \"blue\")\n",
    "            axes.add_patch(ellipse)\n",
    "            plt.axhline(0, color='blue',linestyle=\"--\", linewidth=0.5)\n",
    "            plt.axvline(0, color='blue',linestyle=\"--\", linewidth=0.5)\n",
    "            plt.show()\n",
    "    # if false then raise the value error\n",
    "    except ValueError as e:\n",
    "            print(e)  \n",
    "\n",
    "# Nuage des variables\n",
    "pca_var_plot(data=varcoord,\n",
    "             eigen=eigenvalue,\n",
    "             axei=0,\n",
    "             axej=1,\n",
    "             figsize=(10,10))"
   ]
  },
  {
   "cell_type": "code",
   "execution_count": null,
   "id": "914f615a",
   "metadata": {},
   "outputs": [],
   "source": [
    "# Cercle des corrélations des variables\n",
    "from mlxtend.plotting import plot_pca_correlation_graph\n",
    "\n",
    "fig,corr_mat = plot_pca_correlation_graph(Z.values,Z.columns,\n",
    "                                                        dimensions=(1, 2),\n",
    "                                                        figure_axis_size=10)\n",
    "plt.grid(True)\n",
    "plt.show()"
   ]
  },
  {
   "cell_type": "code",
   "execution_count": null,
   "id": "8cb6d3d6",
   "metadata": {},
   "outputs": [],
   "source": [
    "display(corr_mat)"
   ]
  },
  {
   "cell_type": "code",
   "execution_count": null,
   "id": "562f5cac",
   "metadata": {},
   "outputs": [],
   "source": [
    "# coordonnées des individus\n",
    "rowcoord_svd = pd.DataFrame(U * delta.reshape(1, -1),index = donnee.index,\n",
    "                       columns = index)\n",
    "# Affichage axe 1 et axe 2\n",
    "display(rowcoord_svd.loc[:,['Dim.1','Dim.2']].T.round(2))"
   ]
  },
  {
   "cell_type": "code",
   "execution_count": null,
   "id": "39b020c3",
   "metadata": {},
   "outputs": [],
   "source": [
    "# Coordonnées factorielles des variables\n",
    "varcoord_svd = pd.DataFrame(V.T.dot(np.diag(np.sqrt(lambd))),\n",
    "                           index = donnee.columns, columns = index)\n",
    "varcoord_svd.index.name = 'mois'\n",
    "display(varcoord_svd.loc[:,['Dim.1','Dim.2']].T.round(2))"
   ]
  },
  {
   "cell_type": "markdown",
   "id": "76280a3d",
   "metadata": {},
   "source": [
    "### Relation de transition\n",
    "\n",
    "#### Coordonées de l'individu i"
   ]
  },
  {
   "cell_type": "code",
   "execution_count": null,
   "id": "34698aac",
   "metadata": {},
   "outputs": [],
   "source": [
    "# relation de transition - coordonnées des individus\n",
    "transition1 = Z.dot(varcoord)/np.sqrt(eigenvalue)\n",
    "display(transition1.iloc[:,[0,1]].round(2))"
   ]
  },
  {
   "cell_type": "markdown",
   "id": "12437817",
   "metadata": {},
   "source": [
    "#### Coordonnées de la variable k"
   ]
  },
  {
   "cell_type": "code",
   "execution_count": null,
   "id": "0017ba53",
   "metadata": {},
   "outputs": [],
   "source": [
    "# relation de transition - coordonnées des variables\n",
    "transition2 = Z.T.dot(rowcoord)/(n*np.sqrt(eigenvalue))\n",
    "display(transition2.iloc[:,[0,1]].T.round(2))"
   ]
  },
  {
   "cell_type": "markdown",
   "id": "196a6802",
   "metadata": {},
   "source": [
    "#### Biplot"
   ]
  },
  {
   "cell_type": "code",
   "execution_count": null,
   "id": "64ce119f",
   "metadata": {},
   "outputs": [],
   "source": [
    "# Nuage simultané\n",
    "def biplot(data1,data2,eigen,axei,axej,figsize=None):\n",
    "    # Représentation simultanée des indvidus et des variables\n",
    "    try:\n",
    "        if axei==axej:\n",
    "            raise ValueError('Erreur: axei doit être différent de axej.')\n",
    "        elif axei>axej:\n",
    "            raise ValueError('Erreur: axei doit être inférieur à axej.')\n",
    "        elif axei<0 or axej<0:\n",
    "            msg = 'Erreur: les valeurs des axes doivent être positives ou nulles.'\n",
    "            raise ValueError(msg)\n",
    "        else:\n",
    "            n,p = data1.shape\n",
    "            # Valeurs propres\n",
    "            percent = np.array([100*x/sum(eigen) for x in eigen])\n",
    "            dimi = round(percent[axei],2); dimj = round(percent[axej],2)\n",
    "            \n",
    "            # Biplot\n",
    "            fig = plt.figure(figsize=(12,8))\n",
    "            axes1 = fig.add_subplot(111)\n",
    "            axes2 = axes1.twiny()\n",
    "            axes2 = axes2.twinx()\n",
    "            axes1.grid()\n",
    "            axes2.axis([-1.2,1.2,-1.2,1.2])\n",
    "            axes1.axis([-8,8,-6,6])\n",
    "            axes1.set_title(\"Biplot\")\n",
    "            axes1.set_xlabel(f\"Dim.{1+axei} ({dimi}%)\")\n",
    "            axes1.set_ylabel(f\"Dim.{1+axej} ({dimj}%)\")\n",
    "            # Affichage des individus\n",
    "            for i in range(n):\n",
    "                axes1.scatter(data1.iloc[i,0],data1.iloc[i,1],c = \"black\",\n",
    "                              alpha = 1)\n",
    "                axes1.text(data1.iloc[i,0],data1.iloc[i,1],data1.index[i],\n",
    "                           color = \"black\",fontsize=12)\n",
    "            # Affichage des variables\n",
    "            for k in range(p):\n",
    "                axes2.arrow(0,0,data2.iloc[k,0],data2.iloc[k,1],\n",
    "                            head_width = 0.02,head_length = 0.02,\n",
    "                            color='blue',linestyle='--')\n",
    "                axes2.text(data2.iloc[k,0],data2.iloc[k,1],data2.index[k],\n",
    "                           color = \"blue\",fontsize=12)\n",
    "            plt.axhline(0, color='blue',linestyle=\"--\", linewidth=0.5)\n",
    "            plt.axvline(0, color='blue',linestyle=\"--\", linewidth=0.5)\n",
    "            plt.show()\n",
    "            \n",
    "    except ValueError as e:\n",
    "            print(e)  \n",
    "\n",
    "# Affichage\n",
    "biplot(data1=rowcoord,data2=varcoord,eigen=eigenvalue,axei=0,axej=1,\n",
    "       figsize=(10,10))"
   ]
  },
  {
   "cell_type": "markdown",
   "id": "f2d28bf6",
   "metadata": {},
   "source": [
    "## Outils d'aide à l'interprétation\n",
    "\n",
    "### Analyse du point de vue des individus\n",
    "\n",
    "#### Contributions factorielles des individus"
   ]
  },
  {
   "cell_type": "code",
   "execution_count": null,
   "id": "e841f745",
   "metadata": {},
   "outputs": [],
   "source": [
    "# contributions factorielles des individus\n",
    "rowcontrib = rowcoord.apply(lambda x: 100*x**2/(n*eigenvalue),axis=1)\n",
    "# Affichage\n",
    "display(rowcontrib.iloc[:,[0,1]].T.round(2))"
   ]
  },
  {
   "cell_type": "code",
   "execution_count": null,
   "id": "f624da4f",
   "metadata": {},
   "outputs": [],
   "source": [
    "# vérifions la théorie\n",
    "display(rowcontrib.sum(axis=0))"
   ]
  },
  {
   "cell_type": "code",
   "execution_count": null,
   "id": "1bca1faa",
   "metadata": {},
   "outputs": [],
   "source": [
    "# Affichage graphique des contributions\n",
    "def plot_graph(data,axis,xlabel,title,figsize=None):\n",
    "    p = data.shape[1]\n",
    "    try:\n",
    "        if axis<0 or axis>p:\n",
    "            raise ValueError(f'axis doit être compris entre {0} et {p-1}.')\n",
    "        else:\n",
    "            sort = data.sort_values(by=f'Dim.{1+axis}', ascending=True)\n",
    "            sort.iloc[:,axis].plot.barh(figsize=figsize)\n",
    "            plt.xlabel(xlabel)\n",
    "            plt.title(f'{title} in axis {1+axis}')\n",
    "            plt.show()\n",
    "    except ValueError as f:\n",
    "        print(f)   \n",
    "\n",
    "# Contribution axe 1\n",
    "plot_graph(data=rowcontrib,\n",
    "           axis=0,\n",
    "           xlabel = 'Contribution (%)',\n",
    "           title = 'Rows contributions',\n",
    "           figsize=(10,8))\n",
    "\n",
    "# Contribution axe 2\n",
    "plot_graph(data=rowcontrib,\n",
    "           axis=1,\n",
    "           xlabel = 'Contribution (%)',\n",
    "           title = 'Rows contributions',\n",
    "           figsize=(10,8))"
   ]
  },
  {
   "cell_type": "markdown",
   "id": "2ef2ac97",
   "metadata": {},
   "source": [
    "### Cosinus carré des individus"
   ]
  },
  {
   "cell_type": "code",
   "execution_count": null,
   "id": "26bf2c93",
   "metadata": {},
   "outputs": [],
   "source": [
    "# Cosinus carré des individus\n",
    "rowcos2 = rowcoord.apply(lambda x : x**2/rowdisto, axis=0)\n",
    "#Affichage\n",
    "display(rowcos2.iloc[:,[0,1]].T.round(2))"
   ]
  },
  {
   "cell_type": "code",
   "execution_count": null,
   "id": "2d6eca61",
   "metadata": {},
   "outputs": [],
   "source": [
    "# Cosinus carré axe 1\n",
    "plot_graph(data=rowcos2,\n",
    "           axis=0,\n",
    "           xlabel = 'Cosinus 2',\n",
    "           title = 'Rows cosinus 2',\n",
    "           figsize=(10,8))\n",
    "\n",
    "# Cosinus carré axe 2\n",
    "plot_graph(data=rowcos2,\n",
    "           axis=1,\n",
    "           xlabel = 'Cosinus 2',\n",
    "           title = 'Rows cosinus 2',\n",
    "           figsize=(10,8))"
   ]
  },
  {
   "cell_type": "markdown",
   "id": "5b9548c4",
   "metadata": {},
   "source": [
    "### Analyse du point de vue des variables\n",
    "\n",
    "#### Contributions des variables"
   ]
  },
  {
   "cell_type": "code",
   "execution_count": null,
   "id": "abb0f7b1",
   "metadata": {},
   "outputs": [],
   "source": [
    "# contributions factorielles des variables\n",
    "varcontrib = varcoord.apply(lambda x : 100*x**2/eigenvalue,axis=1)\n",
    "# Affichage\n",
    "display(varcontrib.iloc[:,[0,1]].T.round(2))"
   ]
  },
  {
   "cell_type": "code",
   "execution_count": null,
   "id": "4b2a86c1",
   "metadata": {},
   "outputs": [],
   "source": [
    "# Contribution variable axe 1\n",
    "plot_graph(data=varcontrib,\n",
    "           axis=0,\n",
    "           xlabel = 'Contribution (%)',\n",
    "           title = 'Columns contributions',\n",
    "           figsize=(10,8))\n",
    "\n",
    "# Contribution variable axe 2\n",
    "plot_graph(data=varcontrib,\n",
    "           axis=1,\n",
    "           xlabel = 'Contribution (%)',\n",
    "           title = 'Columns contributions',\n",
    "           figsize=(10,8))"
   ]
  },
  {
   "cell_type": "markdown",
   "id": "c0d5cd33",
   "metadata": {},
   "source": [
    "#### Cosinus carré des variables"
   ]
  },
  {
   "cell_type": "code",
   "execution_count": null,
   "id": "af33c48e",
   "metadata": {},
   "outputs": [],
   "source": [
    "# Cosinus carré des variables\n",
    "varcos2 = varcoord.apply(lambda x : x**2)\n",
    "# Affichage\n",
    "display(varcos2.iloc[:,[0,1]].T.round(2))"
   ]
  },
  {
   "cell_type": "code",
   "execution_count": null,
   "id": "36238a9f",
   "metadata": {},
   "outputs": [],
   "source": [
    "# Cosinus carré variable axe 1\n",
    "plot_graph(data=varcos2,\n",
    "           axis=0,\n",
    "           xlabel = 'Cosinus 2',\n",
    "           title = 'Columns cosinus 2',\n",
    "           figsize=(10,8))\n",
    "\n",
    "# Cosinus carré variable axe 2\n",
    "plot_graph(data=varcos2,\n",
    "           axis=1,\n",
    "           xlabel = 'Cosinus 2',\n",
    "           title = 'Columns cosinus 2',\n",
    "           figsize=(10,8))"
   ]
  },
  {
   "cell_type": "markdown",
   "id": "075f56f7",
   "metadata": {},
   "source": [
    "## Elements supplémentaires\n",
    "\n",
    "### Individus supplémentaires"
   ]
  },
  {
   "cell_type": "code",
   "execution_count": null,
   "id": "7c888e08",
   "metadata": {},
   "outputs": [],
   "source": [
    "# individus supplémentaires\n",
    "ind_sup = pd.read_excel('temperature.xlsx',sheet_name=3,header=0,index_col=0)"
   ]
  },
  {
   "cell_type": "code",
   "execution_count": null,
   "id": "fba3d38f",
   "metadata": {},
   "outputs": [],
   "source": [
    "# statistiques descriptives\n",
    "display(ind_sup.describe(include='all').round(2))"
   ]
  },
  {
   "cell_type": "code",
   "execution_count": null,
   "id": "1a8e1fc4",
   "metadata": {},
   "outputs": [],
   "source": [
    "# dimensions\n",
    "m,p = ind_sup.shape\n",
    "print(f'm = {m} et p = {p}')"
   ]
  },
  {
   "cell_type": "code",
   "execution_count": null,
   "id": "b4703840",
   "metadata": {},
   "outputs": [],
   "source": [
    "# Normalisation des données supplémentaires\n",
    "A = ind_sup.apply(lambda x : (x-donnee.mean(axis=0))/donnee.std(ddof=0,axis=0),\n",
    "                   axis=1)\n",
    "display(A.round(2))"
   ]
  },
  {
   "cell_type": "code",
   "execution_count": null,
   "id": "7b99296f",
   "metadata": {},
   "outputs": [],
   "source": [
    "# coordonnées factorielles des villes supplémentaires\n",
    "rowsupcoord = pd.DataFrame(np.zeros(shape=(m,p),dtype=float),columns = index,\n",
    "                           index = ind_sup.index)\n",
    "for j in range(p):\n",
    "    rowsupcoord.iloc[:,j] = 1/np.sqrt(eigenvalue[j])*A.dot(varcoord.iloc[:,j])\n",
    "\n",
    "# Affichage\n",
    "rowsupcoord.index.name = 'villes'\n",
    "display(rowsupcoord.iloc[:,[0,1]].T.round(2))"
   ]
  },
  {
   "cell_type": "code",
   "execution_count": null,
   "id": "bf8e67cc",
   "metadata": {},
   "outputs": [],
   "source": [
    "# Fonction de visualisation en 2D\n",
    "def pca_rowsup_plot(data1,data2,eigen,axei,axej,figsize=None):\n",
    "    try:\n",
    "        if axei==axej:\n",
    "            raise ValueError('Erreur: axei doit être différent de axej.')\n",
    "        elif axei>axej:\n",
    "            raise ValueError('Erreur: axei doit être inférieur à axej.')\n",
    "        elif axei<0 or axej<0:\n",
    "            msg = 'Erreur: les valeurs des axes doivent être positives ou nulles.'\n",
    "            raise ValueError(msg)\n",
    "        else:\n",
    "            n = data1.shape[0]\n",
    "            m = data2.shape[0]\n",
    "            # Valeurs propres\n",
    "            percent = np.array([100*x/sum(eigen) for x in eigen])\n",
    "            dimi = round(percent[axei],2); dimj = round(percent[axej],2)\n",
    "\n",
    "            # Graphique\n",
    "            fig, axes = plt.subplots(figsize = figsize); axes.grid()\n",
    "            axes.axis([-15,15,-8,8])\n",
    "            axes.set_title(\"Projection des individus\")\n",
    "            axes.set_xlabel(f\"Dim.{1+axei} ({dimi}%)\")\n",
    "            axes.set_ylabel(f\"Dim.{1+axej} ({dimj}%)\")\n",
    "            # Positionnement des individus actifs\n",
    "            for i in range(n):\n",
    "                plt.scatter(data1.iloc[i,axei], data1.iloc[i,axej],\n",
    "                            c = \"black\", alpha = 1)\n",
    "                axes.text(data1.iloc[i,axei],data1.iloc[i,axej],data1.index[i],\n",
    "                          color = \"black\", fontsize = 11)\n",
    "            # positionnement des individus illustratifs\n",
    "            for j in range(m):\n",
    "                plt.scatter(data2.iloc[j,axei], data2.iloc[j,axej],\n",
    "                            c = \"blue\", alpha = 1)\n",
    "                axes.text(data2.iloc[j,axei],data2.iloc[j,axej],data2.index[j],\n",
    "                          color = \"blue\", fontsize = 11)\n",
    "            plt.axhline(0, color='blue',linestyle=\"--\", linewidth=0.5)\n",
    "            plt.axvline(0, color='blue',linestyle=\"--\", linewidth=0.5)\n",
    "            plt.show()\n",
    "            \n",
    "    # if false then raise the value error\n",
    "    except ValueError as e:\n",
    "            print(e)    \n",
    "\n",
    "# Nuage des individus\n",
    "pca_rowsup_plot(data1 = rowcoord,\n",
    "                data2 = rowsupcoord,\n",
    "                eigen = eigenvalue,\n",
    "                axei = 0,\n",
    "                axej = 1,\n",
    "                figsize=(12,8))"
   ]
  },
  {
   "cell_type": "markdown",
   "id": "749c9f43",
   "metadata": {},
   "source": [
    "#### Variables supplémentaires quantitatives"
   ]
  },
  {
   "cell_type": "code",
   "execution_count": null,
   "id": "6bd7668e",
   "metadata": {},
   "outputs": [],
   "source": [
    "# variables supplémentaires quantitatives\n",
    "vsQuant = pd.read_excel('temperature.xlsx',sheet_name=1,header=0,index_col=0)"
   ]
  },
  {
   "cell_type": "code",
   "execution_count": null,
   "id": "314d4831",
   "metadata": {},
   "outputs": [],
   "source": [
    "# Dimensions des variables supplémentaires\n",
    "n, q = vsQuant.shape\n",
    "print(f'm = {n} et q = {q}')"
   ]
  },
  {
   "cell_type": "code",
   "execution_count": null,
   "id": "3c8c68ae",
   "metadata": {},
   "outputs": [],
   "source": [
    "# corrélation avec les axes factorielles\n",
    "varsupcoord = pd.DataFrame(np.zeros(shape=(q,p),dtype=float),columns = index,\n",
    "                           index = vsQuant.columns)\n",
    "for k in range(q):\n",
    "    for l in range(p):\n",
    "        varsupcoord.iloc[k,l] = np.corrcoef(vsQuant.iloc[:,k],\n",
    "                                            rowcoord.iloc[:,l])[1,0]\n",
    "\n",
    "# Affichage\n",
    "display(varsupcoord.iloc[:,[0,1]].T.round(2))"
   ]
  },
  {
   "cell_type": "code",
   "execution_count": null,
   "id": "330d67f9",
   "metadata": {},
   "outputs": [],
   "source": [
    "# Visualisation du nuage des variables (=Cercle de corrélation)\n",
    "def pca_varsup_plot(data1,data2,eigen,axei,axej,figsize=None):\n",
    "    try:\n",
    "        if axei==axej:\n",
    "            raise ValueError('Erreur: axei doit être différent de axej.')\n",
    "        elif axei>axej:\n",
    "            raise ValueError('Erreur: axei doit être inférieur à axej.')\n",
    "        elif axei<0 or axej<0:\n",
    "            msg = 'Erreur: les valeurs des axes doivent être positives ou nulles.'\n",
    "            raise ValueError(msg)\n",
    "        else:\n",
    "            p = data1.shape[0]\n",
    "            q = data2.shape[0]\n",
    "            # Valeurs propres\n",
    "            percent = np.array([100*x/sum(eigen) for x in eigen])\n",
    "            dimi = round(percent[axei],2); dimj = round(percent[axej],2)\n",
    "            \n",
    "            # Graphique\n",
    "            fig, axes = plt.subplots(figsize = figsize)\n",
    "            axes.grid()\n",
    "            axes.axis([-1.5,1.5,-1.5,1.5])\n",
    "            axes.set_title(\"Cercle de corrélation\")\n",
    "            axes.set_xlabel(f\"Dim.{1+axei} ({dimi}%)\")\n",
    "            axes.set_ylabel(f\"Dim.{1+axej} ({dimj}%)\")\n",
    "            for j in range(p):\n",
    "                axes.arrow(0,0,data1.iloc[j,axei],data1.iloc[j,axej],\n",
    "                           head_width = 0.02,head_length = 0.02,color='black')\n",
    "                axes.text(data1.iloc[j,axei],data1.iloc[j,axej],data1.index[j],\n",
    "                          color = \"black\")\n",
    "            for k in range(q):\n",
    "                axes.arrow(0,0,data2.iloc[k,axei],data2.iloc[k,axej],\n",
    "                           head_width = 0.02, head_length = 0.02,\n",
    "                           color='blue',linestyle='--')\n",
    "                axes.text(data2.iloc[k,axei],data2.iloc[k,axej],data2.index[k],\n",
    "                          color = \"blue\")\n",
    "            # cercle\n",
    "            from matplotlib.patches import Ellipse\n",
    "            ellipse = Ellipse((0,0),width = 2, height = 2, facecolor = \"none\", \n",
    "                              edgecolor = \"blue\")\n",
    "            axes.add_patch(ellipse)\n",
    "            plt.axhline(0, color='blue',linestyle=\"--\", linewidth=0.5)\n",
    "            plt.axvline(0, color='blue',linestyle=\"--\", linewidth=0.5)\n",
    "            plt.show()\n",
    "    # if false then raise the value error\n",
    "    except ValueError as e:\n",
    "            print(e)  \n",
    "\n",
    "# Nuage des variables\n",
    "pca_varsup_plot(data1 =varcoord,\n",
    "                data2 = varsupcoord,\n",
    "                eigen=eigenvalue,\n",
    "                axei=0,\n",
    "                axej=1,\n",
    "                figsize=(10,10))"
   ]
  },
  {
   "cell_type": "markdown",
   "id": "8c7faa2b",
   "metadata": {},
   "source": [
    "#### variables qualitatives supplémentaires"
   ]
  },
  {
   "cell_type": "code",
   "execution_count": null,
   "id": "36afb5be",
   "metadata": {},
   "outputs": [],
   "source": [
    "# variables supplémentaires qualitatives\n",
    "vsQual = pd.read_excel('temperature.xlsx',sheet_name=2,header=0,index_col=0)"
   ]
  },
  {
   "cell_type": "code",
   "execution_count": null,
   "id": "e8ecd6eb",
   "metadata": {},
   "outputs": [],
   "source": [
    "# Dimensions des variables supplémentaires\n",
    "n, r = vsQual.shape\n",
    "print(f'm = {n} et r = {r}')"
   ]
  },
  {
   "cell_type": "code",
   "execution_count": null,
   "id": "3584b852",
   "metadata": {},
   "outputs": [],
   "source": [
    "# Modalités de la variable\n",
    "modalites = np.unique(vsQual)\n",
    "print('modalite :',modalites)"
   ]
  },
  {
   "cell_type": "code",
   "execution_count": null,
   "id": "c4b3ec98",
   "metadata": {},
   "outputs": [],
   "source": [
    "# Fonction de visualisation en 2D\n",
    "def pca_rowqual_plot(data,vsqual,eigen,axei,axej,figsize=None):\n",
    "    try:\n",
    "        if axei==axej:\n",
    "            raise ValueError('Erreur: axei doit être différent de axej.')\n",
    "        elif axei>axej:\n",
    "            raise ValueError('Erreur: axei doit être inférieur à axej.')\n",
    "        elif axei<0 or axej<0:\n",
    "            msg = 'Erreur: les valeurs des axes doivent être positives ou nulles.'\n",
    "            raise ValueError(msg)\n",
    "        else:\n",
    "            # set limite\n",
    "            n = data.shape[0]\n",
    "            # Valeurs propres\n",
    "            percent = np.array([100*x/sum(eigen) for x in eigen])\n",
    "            dimi = round(percent[axei],2); dimj = round(percent[axej],2)\n",
    "\n",
    "            # Graphique\n",
    "            fig, axes = plt.subplots(figsize = figsize); axes.grid()\n",
    "            axes.axis([-8,8,-6,6])\n",
    "            axes.set_title(\"Projection des individus\")\n",
    "            axes.set_xlabel(f\"Dim.{1+axei} ({dimi}%)\")\n",
    "            axes.set_ylabel(f\"Dim.{1+axej} ({dimj}%)\")\n",
    "            cdict = {'A': 'green','B': 'blue', 'C':'red'}\n",
    "            for group in np.unique(vsqual):\n",
    "                idx = np.where(vsqual==group)\n",
    "                axes.scatter(data.iloc[:,axei].values[idx[0]],\n",
    "                             data.iloc[:,axej].values[idx[0]],\n",
    "                             label = group, c = cdict[group])\n",
    "                for i in idx[0]:\n",
    "                    axes.text(data.iloc[:,0].values[i],data.iloc[:,1].values[i],\n",
    "                              s=data.index[i],c =cdict[group],fontsize = 11)\n",
    "            axes.legend()\n",
    "            plt.axhline(0, color='blue',linestyle=\"--\", linewidth=0.5)\n",
    "            plt.axvline(0, color='blue',linestyle=\"--\", linewidth=0.5)\n",
    "            plt.show()\n",
    "            \n",
    "    # if false then raise the value error\n",
    "    except ValueError as e:\n",
    "            print(e) \n",
    "\n",
    "# Nuage des individus sur les axes 1 et 2\n",
    "pca_rowqual_plot(data=rowcoord,vsqual = vsQual,eigen=eigenvalue,\n",
    "                 axei=0,axej=1,figsize=(12,8))"
   ]
  },
  {
   "cell_type": "code",
   "execution_count": null,
   "id": "66639a16",
   "metadata": {},
   "outputs": [],
   "source": [
    "# Barycentre des modalités\n",
    "df = pd.concat([rowcoord,vsQual],axis=1)\n",
    "# Moyennes conditionnelles\n",
    "condmean = df.pivot_table(index = 'groupe',values = ['Dim.1','Dim.2'],\n",
    "                          aggfunc = pd.Series.mean)\n",
    "display(condmean.T.round(2))"
   ]
  },
  {
   "cell_type": "code",
   "execution_count": null,
   "id": "ed2b3728",
   "metadata": {},
   "outputs": [],
   "source": [
    "# Fonction de visualisation en 2D\n",
    "def pca_rowsupqual_plot(data1,data2,data3,eigen,axei,axej,figsize=None):\n",
    "    try:\n",
    "        if axei==axej:\n",
    "            raise ValueError('Erreur: axei doit être différent de axej.')\n",
    "        elif axei>axej:\n",
    "            raise ValueError('Erreur: axei doit être inférieur à axej.')\n",
    "        elif axei<0 or axej<0:\n",
    "            msg = 'Erreur: les valeurs des axes doivent être positives ou nulles.'\n",
    "            raise ValueError(msg)\n",
    "        else:\n",
    "            n = data1.shape[0];m = data2.shape[0];r = data3.shape[0]\n",
    "            # Valeurs propres\n",
    "            percent = np.array([100*x/sum(eigen) for x in eigen])\n",
    "            dimi = round(percent[axei],2); dimj = round(percent[axej],2)\n",
    "            \n",
    "\n",
    "            # Graphique\n",
    "            fig, axes = plt.subplots(figsize = figsize); axes.grid()\n",
    "            axes.axis([-15,15,-8,8])\n",
    "            axes.set_title(\"Projection des individus\")\n",
    "            axes.set_xlabel(f\"Dim.{1+axei} ({dimi}%)\")\n",
    "            axes.set_ylabel(f\"Dim.{1+axej} ({dimj}%)\")\n",
    "            # Positionnement des individus actifs\n",
    "            for i in range(n):\n",
    "                plt.scatter(data1.iloc[i,axei], data1.iloc[i,axej],\n",
    "                            c = \"black\", alpha = 1)\n",
    "                axes.text(data1.iloc[i,axei],data1.iloc[i,axej],data1.index[i],\n",
    "                          color = \"black\", fontsize = 11)\n",
    "            # positionnement des individus illustratifs\n",
    "            for j in range(m):\n",
    "                plt.scatter(data2.iloc[j,axei], data2.iloc[j,axej],\n",
    "                            c = \"blue\", alpha = 1)\n",
    "                axes.text(data2.iloc[j,axei],data2.iloc[j,axej],data2.index[j],\n",
    "                          color = \"blue\", fontsize = 11)\n",
    "            # positionnement des modalités\n",
    "            for k in range(r):\n",
    "                plt.scatter(data3.iloc[k,axei], data3.iloc[k,axej],\n",
    "                            c = \"red\", alpha = 1)\n",
    "                axes.text(data3.iloc[k,axei],data3.iloc[k,axej],data3.index[k],\n",
    "                          color = \"red\", fontsize = 12)\n",
    "            plt.axhline(0, color='blue',linestyle=\"--\", linewidth=0.5)\n",
    "            plt.axvline(0, color='blue',linestyle=\"--\", linewidth=0.5)\n",
    "            plt.show()\n",
    "            \n",
    "    # if false then raise the value error\n",
    "    except ValueError as e:\n",
    "            print(e)    \n",
    "\n",
    "# Nuage des individus\n",
    "pca_rowsupqual_plot(data1 = rowcoord,\n",
    "                    data2 = rowsupcoord,\n",
    "                    data3 = condmean,\n",
    "                    eigen = eigenvalue,\n",
    "                    axei = 0,\n",
    "                    axej = 1,\n",
    "                    figsize=(12,8))"
   ]
  },
  {
   "cell_type": "markdown",
   "id": "4daa5fc8",
   "metadata": {},
   "source": [
    "## Description des classes\n",
    "\n",
    "#### Description des classes par les variables explicatives quantitatives\n",
    "\n",
    "$$\\text{Corr}(k,F_\\alpha)$$"
   ]
  },
  {
   "cell_type": "code",
   "execution_count": null,
   "id": "1d099a30",
   "metadata": {},
   "outputs": [],
   "source": [
    "#Description\n",
    "from scipy.stats import pearsonr\n",
    "\n",
    "descAxe1 = pd.DataFrame(np.zeros(shape=(p,2),dtype=float),index = donnee.columns,\n",
    "                        columns = ['correlation','p.value'])\n",
    "\n",
    "for i in range(p):\n",
    "    descAxe1.iloc[i,0],descAxe1.iloc[i,1] = pearsonr(donnee.iloc[:,i],\n",
    "                                                     rowcoord.iloc[:,0])\n",
    "\n",
    "# Affichage\n",
    "display(descAxe1.sort_values(by='correlation',ascending=False).round(4))"
   ]
  },
  {
   "cell_type": "code",
   "execution_count": null,
   "id": "2a78cea3",
   "metadata": {},
   "outputs": [],
   "source": [
    "pd.concat([rowinfos,rowcoord[['Dim.1','Dim.2','Dim.3']],rowcontrib[['Dim.1','Dim.2','Dim.3']],\n",
    "           rowcos2[['Dim.1','Dim.2','Dim.3']]],axis=1).round(3)"
   ]
  },
  {
   "cell_type": "code",
   "execution_count": null,
   "id": "0391ccd0",
   "metadata": {},
   "outputs": [],
   "source": [
    "pd.concat([varcoord[['Dim.1','Dim.2','Dim.3']],varcontrib[['Dim.1','Dim.2','Dim.3']],\n",
    "           varcos2[['Dim.1','Dim.2','Dim.3']]],axis=1).round(3)"
   ]
  },
  {
   "cell_type": "code",
   "execution_count": null,
   "id": "c35e0175",
   "metadata": {},
   "outputs": [],
   "source": [
    "# Exporter les coordonnées factorielles\n",
    "#rowcoord.to_pickle(\"temperature.pkl\")  "
   ]
  }
 ],
 "metadata": {
  "kernelspec": {
   "display_name": "Python 3",
   "language": "python",
   "name": "python3"
  },
  "language_info": {
   "codemirror_mode": {
    "name": "ipython",
    "version": 3
   },
   "file_extension": ".py",
   "mimetype": "text/x-python",
   "name": "python",
   "nbconvert_exporter": "python",
   "pygments_lexer": "ipython3",
   "version": "3.8.8"
  }
 },
 "nbformat": 4,
 "nbformat_minor": 5
}
